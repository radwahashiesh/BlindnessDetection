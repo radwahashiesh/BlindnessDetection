{
 "cells": [
  {
   "cell_type": "code",
   "execution_count": null,
   "id": "c83065a8",
   "metadata": {
    "id": "0bdf0d00",
    "papermill": {
     "duration": 0.015999,
     "end_time": "2023-02-09T14:25:20.002587",
     "exception": false,
     "start_time": "2023-02-09T14:25:19.986588",
     "status": "completed"
    },
    "tags": []
   },
   "outputs": [],
   "source": []
  },
  {
   "cell_type": "code",
   "execution_count": null,
   "id": "82281836",
   "metadata": {
    "_cell_guid": "b1076dfc-b9ad-4769-8c92-a6c4dae69d19",
    "_uuid": "8f2839f25d086af736a60e9eeb907d3b93b6e0e5",
    "id": "cae1390a",
    "papermill": {
     "duration": 0.0151,
     "end_time": "2023-02-09T14:25:20.031154",
     "exception": false,
     "start_time": "2023-02-09T14:25:20.016054",
     "status": "completed"
    },
    "tags": []
   },
   "outputs": [],
   "source": []
  },
  {
   "cell_type": "code",
   "execution_count": 1,
   "id": "34c92fce",
   "metadata": {
    "execution": {
     "iopub.execute_input": "2023-02-09T14:25:20.062885Z",
     "iopub.status.busy": "2023-02-09T14:25:20.062403Z",
     "iopub.status.idle": "2023-02-09T14:25:26.354938Z",
     "shell.execute_reply": "2023-02-09T14:25:26.353965Z"
    },
    "id": "276db74c",
    "papermill": {
     "duration": 6.310006,
     "end_time": "2023-02-09T14:25:26.357736",
     "exception": false,
     "start_time": "2023-02-09T14:25:20.047730",
     "status": "completed"
    },
    "tags": []
   },
   "outputs": [],
   "source": [
    "import pandas as pd \n",
    "import numpy as np \n",
    "import os\n",
    "from distutils.dir_util import copy_tree, remove_tree\n",
    "import cv2\n",
    "import matplotlib.pyplot as plt\n",
    "import warnings\n",
    "import tensorflow as tf\n",
    "from tensorflow.keras.layers import Input, Lambda, Dense, Flatten, Dropout\n",
    "from tensorflow.keras.models import Model\n",
    "from tensorflow.keras.utils import plot_model\n",
    "from tensorflow.keras.preprocessing import image, image_dataset_from_directory\n",
    "from imblearn.over_sampling import SMOTE\n",
    "from tensorflow.keras.preprocessing.image import ImageDataGenerator\n",
    "from tensorflow.keras.callbacks import EarlyStopping\n",
    "from tensorflow.keras.models import Sequential\n",
    "from tensorflow import keras\n",
    "from random import randint"
   ]
  },
  {
   "cell_type": "code",
   "execution_count": 2,
   "id": "55c55ac4",
   "metadata": {
    "execution": {
     "iopub.execute_input": "2023-02-09T14:25:26.386000Z",
     "iopub.status.busy": "2023-02-09T14:25:26.384819Z",
     "iopub.status.idle": "2023-02-09T14:25:54.091059Z",
     "shell.execute_reply": "2023-02-09T14:25:54.089809Z"
    },
    "id": "04e7b507",
    "outputId": "9d5c16f1-5e1a-420f-8927-07c6739bae6d",
    "papermill": {
     "duration": 27.722953,
     "end_time": "2023-02-09T14:25:54.093751",
     "exception": false,
     "start_time": "2023-02-09T14:25:26.370798",
     "status": "completed"
    },
    "tags": []
   },
   "outputs": [
    {
     "name": "stdout",
     "output_type": "stream",
     "text": [
      "Working Directory Contents: ['NonDemented', 'ModerateDemented', 'MildDemented', 'VeryMildDemented']\n"
     ]
    }
   ],
   "source": [
    "default_dir = \"/kaggle/input/alzheimers-dataset-4-class-of-images/Alzheimer_s Dataset/\"\n",
    "root_dir = \"./\"\n",
    "test_dir = default_dir + \"test/\"\n",
    "train_dir = default_dir + \"train/\"\n",
    "work_dir = root_dir + \"dataset/\"\n",
    "\n",
    "if os.path.exists(work_dir):\n",
    "    remove_tree(work_dir)\n",
    "os.mkdir(work_dir)\n",
    "copy_tree(train_dir, work_dir)\n",
    "copy_tree(test_dir, work_dir)\n",
    "print(\"Working Directory Contents:\", os.listdir(work_dir))"
   ]
  },
  {
   "cell_type": "code",
   "execution_count": 3,
   "id": "b4a0de2b",
   "metadata": {
    "execution": {
     "iopub.execute_input": "2023-02-09T14:25:54.124311Z",
     "iopub.status.busy": "2023-02-09T14:25:54.122729Z",
     "iopub.status.idle": "2023-02-09T14:25:54.128889Z",
     "shell.execute_reply": "2023-02-09T14:25:54.128039Z"
    },
    "id": "9901bd71",
    "papermill": {
     "duration": 0.022095,
     "end_time": "2023-02-09T14:25:54.130690",
     "exception": false,
     "start_time": "2023-02-09T14:25:54.108595",
     "status": "completed"
    },
    "tags": []
   },
   "outputs": [],
   "source": [
    "CLASSES = [ 'NonDemented',\n",
    "            'VeryMildDemented',\n",
    "            'MildDemented',\n",
    "            'ModerateDemented']\n",
    "IMG_SIZE = 150\n",
    "IMAGE_SIZE = [150, 150]\n",
    "DIM = (IMG_SIZE, IMG_SIZE)"
   ]
  },
  {
   "cell_type": "code",
   "execution_count": 4,
   "id": "4dc6ad15",
   "metadata": {
    "execution": {
     "iopub.execute_input": "2023-02-09T14:25:54.158912Z",
     "iopub.status.busy": "2023-02-09T14:25:54.157370Z",
     "iopub.status.idle": "2023-02-09T14:25:54.164234Z",
     "shell.execute_reply": "2023-02-09T14:25:54.163346Z"
    },
    "id": "c491b3e4",
    "papermill": {
     "duration": 0.022607,
     "end_time": "2023-02-09T14:25:54.166285",
     "exception": false,
     "start_time": "2023-02-09T14:25:54.143678",
     "status": "completed"
    },
    "tags": []
   },
   "outputs": [],
   "source": [
    "ZOOM = [.99, 1.01]\n",
    "BRIGHT_RANGE = [0.8, 1.2]\n",
    "HORZ_FLIP = True\n",
    "FILL_MODE = \"constant\"\n",
    "DATA_FORMAT = \"channels_last\"\n",
    "image_generator = ImageDataGenerator(rescale = 1./255, brightness_range=BRIGHT_RANGE, zoom_range=ZOOM, \n",
    "                                     data_format=DATA_FORMAT, fill_mode=FILL_MODE, horizontal_flip=HORZ_FLIP)"
   ]
  },
  {
   "cell_type": "code",
   "execution_count": 5,
   "id": "f548f8c6",
   "metadata": {
    "execution": {
     "iopub.execute_input": "2023-02-09T14:25:54.193920Z",
     "iopub.status.busy": "2023-02-09T14:25:54.192502Z",
     "iopub.status.idle": "2023-02-09T14:25:54.517274Z",
     "shell.execute_reply": "2023-02-09T14:25:54.516209Z"
    },
    "id": "79bbf8ca",
    "outputId": "1f6a7ab2-9128-430f-fed7-8032722a248b",
    "papermill": {
     "duration": 0.340563,
     "end_time": "2023-02-09T14:25:54.519397",
     "exception": false,
     "start_time": "2023-02-09T14:25:54.178834",
     "status": "completed"
    },
    "tags": []
   },
   "outputs": [
    {
     "name": "stdout",
     "output_type": "stream",
     "text": [
      "Found 6400 images belonging to 4 classes.\n"
     ]
    }
   ],
   "source": [
    "train_dataset = image_generator.flow_from_directory(batch_size=6500,\n",
    "                                                    directory=work_dir,\n",
    "                                                    target_size=(150, 150),\n",
    "                                                    shuffle= True)\n"
   ]
  },
  {
   "cell_type": "code",
   "execution_count": 6,
   "id": "8f5b6f4e",
   "metadata": {
    "execution": {
     "iopub.execute_input": "2023-02-09T14:25:54.547193Z",
     "iopub.status.busy": "2023-02-09T14:25:54.546288Z",
     "iopub.status.idle": "2023-02-09T14:26:31.753470Z",
     "shell.execute_reply": "2023-02-09T14:26:31.752576Z"
    },
    "id": "514b6480",
    "outputId": "99b9821a-d367-4b4e-9e3d-83586e99954e",
    "papermill": {
     "duration": 37.240674,
     "end_time": "2023-02-09T14:26:31.773154",
     "exception": false,
     "start_time": "2023-02-09T14:25:54.532480",
     "status": "completed"
    },
    "tags": []
   },
   "outputs": [
    {
     "data": {
      "image/png": "[encoded data removed]",
      "text/plain": [
       "<Figure size 720x720 with 4 Axes>"
      ]
     },
     "metadata": {
      "needs_background": "light"
     },
     "output_type": "display_data"
    }
   ],
   "source": [
    "def show_images(generator,y_pred=None):\n",
    "  \n",
    "    labels =dict(zip([0,1,2,3], CLASSES))\n",
    "    \n",
    "    # get a lot of images\n",
    "    x,y = generator.next()\n",
    "    \n",
    "    # show a grid of 9 images\n",
    "    plt.figure(figsize=(10, 10))\n",
    "    if y_pred is None:\n",
    "        for i in range(4):\n",
    "            ax = plt.subplot(2, 2, i + 1)\n",
    "            idx = randint(0,50)\n",
    "            plt.imshow(x[idx])\n",
    "            plt.axis(\"off\")\n",
    "            plt.title(\"Class:{}\".format(labels[np.argmax(y[idx])]))\n",
    "                                                     \n",
    "    else:\n",
    "        for i in range(4):\n",
    "            ax = plt.subplot(2, 2, i + 1)\n",
    "            plt.imshow(x[i])\n",
    "            plt.axis(\"off\")\n",
    "            plt.title(\"Actual:{} \\nPredicted:{}\".format(labels[np.argmax(y[i])],labels[y_pred[i]]))\n",
    "    \n",
    "# Display Train Images\n",
    "show_images(train_dataset)"
   ]
  },
  {
   "cell_type": "code",
   "execution_count": 7,
   "id": "035ee2ca",
   "metadata": {
    "execution": {
     "iopub.execute_input": "2023-02-09T14:26:31.803597Z",
     "iopub.status.busy": "2023-02-09T14:26:31.803306Z",
     "iopub.status.idle": "2023-02-09T14:26:31.980924Z",
     "shell.execute_reply": "2023-02-09T14:26:31.980044Z"
    },
    "id": "d34e9cb0",
    "outputId": "be1bf73d-c2d3-4ae5-98d0-98723597f717",
    "papermill": {
     "duration": 0.195241,
     "end_time": "2023-02-09T14:26:31.982912",
     "exception": false,
     "start_time": "2023-02-09T14:26:31.787671",
     "status": "completed"
    },
    "tags": []
   },
   "outputs": [
    {
     "data": {
      "text/plain": [
       "<BarContainer object of 4 artists>"
      ]
     },
     "execution_count": 7,
     "metadata": {},
     "output_type": "execute_result"
    },
    {
     "data": {
      "image/png": "[encoded data removed]",
      "text/plain": [
       "<Figure size 720x360 with 1 Axes>"
      ]
     },
     "metadata": {
      "needs_background": "light"
     },
     "output_type": "display_data"
    }
   ],
   "source": [
    "data = {'NonDemented':      0, \n",
    "        'VeryMildDemented': 0, \n",
    "        'MildDemented':     0,\n",
    "        'ModerateDemented': 0}\n",
    "\n",
    "# visualizing dataset\n",
    "for cls in os.listdir(work_dir):\n",
    "    for img in os.listdir(work_dir + '/' + cls):\n",
    "        data[cls] = data[cls] + 1\n",
    "        \n",
    "keys = list(data.keys())\n",
    "values = list(data.values())\n",
    "  \n",
    "fig = plt.figure(figsize = (10, 5))\n",
    " \n",
    "plt.bar(keys, values, color='pink', width = 0.4)"
   ]
  },
  {
   "cell_type": "code",
   "execution_count": 8,
   "id": "3d1ac92d",
   "metadata": {
    "execution": {
     "iopub.execute_input": "2023-02-09T14:26:32.014514Z",
     "iopub.status.busy": "2023-02-09T14:26:32.014197Z",
     "iopub.status.idle": "2023-02-09T14:27:08.873069Z",
     "shell.execute_reply": "2023-02-09T14:27:08.871985Z"
    },
    "id": "4b850a2a",
    "papermill": {
     "duration": 36.87752,
     "end_time": "2023-02-09T14:27:08.875592",
     "exception": false,
     "start_time": "2023-02-09T14:26:31.998072",
     "status": "completed"
    },
    "tags": []
   },
   "outputs": [],
   "source": [
    "train_data, train_labels = train_dataset.next()"
   ]
  },
  {
   "cell_type": "code",
   "execution_count": 9,
   "id": "2639a7e7",
   "metadata": {
    "execution": {
     "iopub.execute_input": "2023-02-09T14:27:08.910203Z",
     "iopub.status.busy": "2023-02-09T14:27:08.908472Z",
     "iopub.status.idle": "2023-02-09T14:27:08.917261Z",
     "shell.execute_reply": "2023-02-09T14:27:08.915786Z"
    },
    "id": "6c884bb5",
    "outputId": "b6b1d92e-840e-4066-8fa5-c9bdf5420ed8",
    "papermill": {
     "duration": 0.028088,
     "end_time": "2023-02-09T14:27:08.920061",
     "exception": false,
     "start_time": "2023-02-09T14:27:08.891973",
     "status": "completed"
    },
    "tags": []
   },
   "outputs": [
    {
     "name": "stdout",
     "output_type": "stream",
     "text": [
      "[[0. 0. 0. 1.]\n",
      " [0. 0. 1. 0.]\n",
      " [0. 0. 0. 1.]\n",
      " ...\n",
      " [0. 0. 1. 0.]\n",
      " [0. 0. 0. 1.]\n",
      " [0. 0. 1. 0.]]\n"
     ]
    }
   ],
   "source": [
    "print(train_labels)"
   ]
  },
  {
   "cell_type": "code",
   "execution_count": 10,
   "id": "64c9f614",
   "metadata": {
    "execution": {
     "iopub.execute_input": "2023-02-09T14:27:08.954077Z",
     "iopub.status.busy": "2023-02-09T14:27:08.953048Z",
     "iopub.status.idle": "2023-02-09T14:27:08.958744Z",
     "shell.execute_reply": "2023-02-09T14:27:08.957955Z"
    },
    "id": "I9lZ5C17msAB",
    "papermill": {
     "duration": 0.023965,
     "end_time": "2023-02-09T14:27:08.960814",
     "exception": false,
     "start_time": "2023-02-09T14:27:08.936849",
     "status": "completed"
    },
    "tags": []
   },
   "outputs": [],
   "source": [
    "numerical_labels = np.argmax(train_labels, axis=1)\n"
   ]
  },
  {
   "cell_type": "code",
   "execution_count": 11,
   "id": "4c018329",
   "metadata": {
    "execution": {
     "iopub.execute_input": "2023-02-09T14:27:08.993280Z",
     "iopub.status.busy": "2023-02-09T14:27:08.992498Z",
     "iopub.status.idle": "2023-02-09T14:27:08.998184Z",
     "shell.execute_reply": "2023-02-09T14:27:08.996929Z"
    },
    "id": "Nn6H2F1Xmzae",
    "outputId": "ff8057d1-6f51-474e-b27f-c7942e0e5f5d",
    "papermill": {
     "duration": 0.024801,
     "end_time": "2023-02-09T14:27:09.000736",
     "exception": false,
     "start_time": "2023-02-09T14:27:08.975935",
     "status": "completed"
    },
    "tags": []
   },
   "outputs": [
    {
     "name": "stdout",
     "output_type": "stream",
     "text": [
      "[3 2 3 ... 2 3 2]\n"
     ]
    }
   ],
   "source": [
    "print(numerical_labels)"
   ]
  },
  {
   "cell_type": "code",
   "execution_count": 12,
   "id": "3418367f",
   "metadata": {
    "execution": {
     "iopub.execute_input": "2023-02-09T14:27:09.033500Z",
     "iopub.status.busy": "2023-02-09T14:27:09.032492Z",
     "iopub.status.idle": "2023-02-09T14:27:09.040061Z",
     "shell.execute_reply": "2023-02-09T14:27:09.039278Z"
    },
    "id": "Xxpgau5VluR4",
    "papermill": {
     "duration": 0.025761,
     "end_time": "2023-02-09T14:27:09.042125",
     "exception": false,
     "start_time": "2023-02-09T14:27:09.016364",
     "status": "completed"
    },
    "tags": []
   },
   "outputs": [],
   "source": [
    "for i in range(len(numerical_labels)):\n",
    "    if numerical_labels[i] == 0:\n",
    "        numerical_labels[i] = 0\n",
    "    else:\n",
    "        numerical_labels[i] = 1\n"
   ]
  },
  {
   "cell_type": "code",
   "execution_count": 13,
   "id": "efed12c6",
   "metadata": {
    "execution": {
     "iopub.execute_input": "2023-02-09T14:27:09.079983Z",
     "iopub.status.busy": "2023-02-09T14:27:09.079263Z",
     "iopub.status.idle": "2023-02-09T14:27:09.084903Z",
     "shell.execute_reply": "2023-02-09T14:27:09.083742Z"
    },
    "id": "aF1Zt8-rmwNb",
    "outputId": "1e583a40-8369-4b24-dc2b-fd720592885a",
    "papermill": {
     "duration": 0.023359,
     "end_time": "2023-02-09T14:27:09.086828",
     "exception": false,
     "start_time": "2023-02-09T14:27:09.063469",
     "status": "completed"
    },
    "tags": []
   },
   "outputs": [
    {
     "name": "stdout",
     "output_type": "stream",
     "text": [
      "[1 1 1 ... 1 1 1]\n"
     ]
    }
   ],
   "source": [
    "print(numerical_labels)"
   ]
  },
  {
   "cell_type": "code",
   "execution_count": null,
   "id": "cdfc9fa9",
   "metadata": {
    "id": "n_sKU70pmxpv",
    "papermill": {
     "duration": 0.015074,
     "end_time": "2023-02-09T14:27:09.116962",
     "exception": false,
     "start_time": "2023-02-09T14:27:09.101888",
     "status": "completed"
    },
    "tags": []
   },
   "outputs": [],
   "source": []
  },
  {
   "cell_type": "code",
   "execution_count": null,
   "id": "3bf2d015",
   "metadata": {
    "id": "m37Y57TymyjA",
    "papermill": {
     "duration": 0.015104,
     "end_time": "2023-02-09T14:27:09.147391",
     "exception": false,
     "start_time": "2023-02-09T14:27:09.132287",
     "status": "completed"
    },
    "tags": []
   },
   "outputs": [],
   "source": []
  },
  {
   "cell_type": "code",
   "execution_count": 14,
   "id": "38a76ca3",
   "metadata": {
    "execution": {
     "iopub.execute_input": "2023-02-09T14:27:09.179593Z",
     "iopub.status.busy": "2023-02-09T14:27:09.179272Z",
     "iopub.status.idle": "2023-02-09T14:27:09.184540Z",
     "shell.execute_reply": "2023-02-09T14:27:09.183582Z"
    },
    "id": "536d7584",
    "outputId": "a6701337-03c1-4304-9e8d-9580227ae9db",
    "papermill": {
     "duration": 0.024105,
     "end_time": "2023-02-09T14:27:09.186878",
     "exception": false,
     "start_time": "2023-02-09T14:27:09.162773",
     "status": "completed"
    },
    "tags": []
   },
   "outputs": [
    {
     "name": "stdout",
     "output_type": "stream",
     "text": [
      "(6400, 150, 150, 3) (6400,)\n"
     ]
    }
   ],
   "source": [
    "print(train_data.shape, numerical_labels.shape)"
   ]
  },
  {
   "cell_type": "code",
   "execution_count": 15,
   "id": "0306f7ca",
   "metadata": {
    "execution": {
     "iopub.execute_input": "2023-02-09T14:27:09.220259Z",
     "iopub.status.busy": "2023-02-09T14:27:09.219420Z",
     "iopub.status.idle": "2023-02-09T14:27:18.589342Z",
     "shell.execute_reply": "2023-02-09T14:27:18.588204Z"
    },
    "id": "8d8fbee4",
    "outputId": "83594fd4-dfee-4a03-b5cb-692eebb54f95",
    "papermill": {
     "duration": 9.388887,
     "end_time": "2023-02-09T14:27:18.591591",
     "exception": false,
     "start_time": "2023-02-09T14:27:09.202704",
     "status": "completed"
    },
    "tags": []
   },
   "outputs": [
    {
     "name": "stdout",
     "output_type": "stream",
     "text": [
      "(11008, 150, 150, 3) (11008,)\n"
     ]
    }
   ],
   "source": [
    "#resampling data\n",
    "\n",
    "sm = SMOTE(random_state=42)\n",
    "\n",
    "train_data, train_labels = sm.fit_resample(train_data.reshape(-1, IMG_SIZE * IMG_SIZE * 3), numerical_labels)\n",
    "\n",
    "train_data = train_data.reshape(-1, IMG_SIZE, IMG_SIZE, 3)\n",
    "\n",
    "print(train_data.shape, train_labels.shape)"
   ]
  },
  {
   "cell_type": "code",
   "execution_count": null,
   "id": "dfb795d2",
   "metadata": {
    "id": "e406fxShkUZ7",
    "outputId": "a0adf8bf-fe10-400e-e753-d79d01f5a987",
    "papermill": {
     "duration": 0.014964,
     "end_time": "2023-02-09T14:27:18.622395",
     "exception": false,
     "start_time": "2023-02-09T14:27:18.607431",
     "status": "completed"
    },
    "tags": []
   },
   "outputs": [],
   "source": []
  },
  {
   "cell_type": "code",
   "execution_count": 16,
   "id": "46d43904",
   "metadata": {
    "execution": {
     "iopub.execute_input": "2023-02-09T14:27:18.654945Z",
     "iopub.status.busy": "2023-02-09T14:27:18.653432Z",
     "iopub.status.idle": "2023-02-09T14:27:20.165924Z",
     "shell.execute_reply": "2023-02-09T14:27:20.164916Z"
    },
    "id": "c20c2588",
    "papermill": {
     "duration": 1.530907,
     "end_time": "2023-02-09T14:27:20.168456",
     "exception": false,
     "start_time": "2023-02-09T14:27:18.637549",
     "status": "completed"
    },
    "tags": []
   },
   "outputs": [],
   "source": [
    "from sklearn.model_selection import train_test_split\n",
    "train_data, test_data, train_labels, test_labels = train_test_split(train_data, train_labels, test_size = 0.2, random_state=42)\n",
    "train_data, val_data, train_labels, val_labels = train_test_split(train_data, train_labels, test_size = 0.2, random_state=42)"
   ]
  },
  {
   "cell_type": "markdown",
   "id": "ec8f0935",
   "metadata": {
    "id": "8b3ff0d6",
    "papermill": {
     "duration": 0.014971,
     "end_time": "2023-02-09T14:27:20.199034",
     "exception": false,
     "start_time": "2023-02-09T14:27:20.184063",
     "status": "completed"
    },
    "tags": []
   },
   "source": [
    "# Training models"
   ]
  },
  {
   "cell_type": "code",
   "execution_count": null,
   "id": "b160e3c2",
   "metadata": {
    "id": "ZHrUzude6bhN",
    "papermill": {
     "duration": 0.014699,
     "end_time": "2023-02-09T14:27:20.228811",
     "exception": false,
     "start_time": "2023-02-09T14:27:20.214112",
     "status": "completed"
    },
    "tags": []
   },
   "outputs": [],
   "source": []
  },
  {
   "cell_type": "markdown",
   "id": "db371c57",
   "metadata": {
    "id": "2d03e92a",
    "papermill": {
     "duration": 0.014876,
     "end_time": "2023-02-09T14:27:20.258708",
     "exception": false,
     "start_time": "2023-02-09T14:27:20.243832",
     "status": "completed"
    },
    "tags": []
   },
   "source": []
  },
  {
   "cell_type": "code",
   "execution_count": null,
   "id": "0ee240ca",
   "metadata": {
    "id": "c75d5a71",
    "papermill": {
     "duration": 0.016121,
     "end_time": "2023-02-09T14:27:20.290092",
     "exception": false,
     "start_time": "2023-02-09T14:27:20.273971",
     "status": "completed"
    },
    "tags": []
   },
   "outputs": [],
   "source": []
  },
  {
   "cell_type": "code",
   "execution_count": 17,
   "id": "318cc214",
   "metadata": {
    "execution": {
     "iopub.execute_input": "2023-02-09T14:27:20.323088Z",
     "iopub.status.busy": "2023-02-09T14:27:20.322182Z",
     "iopub.status.idle": "2023-02-09T14:27:23.065643Z",
     "shell.execute_reply": "2023-02-09T14:27:23.064665Z"
    },
    "id": "92dc6d17",
    "papermill": {
     "duration": 2.762717,
     "end_time": "2023-02-09T14:27:23.068613",
     "exception": false,
     "start_time": "2023-02-09T14:27:20.305896",
     "status": "completed"
    },
    "tags": []
   },
   "outputs": [
    {
     "name": "stderr",
     "output_type": "stream",
     "text": [
      "2023-02-09 14:27:20.421166: I tensorflow/stream_executor/cuda/cuda_gpu_executor.cc:937] successful NUMA node read from SysFS had negative value (-1), but there must be at least one NUMA node, so returning NUMA node zero\n",
      "2023-02-09 14:27:20.515030: I tensorflow/stream_executor/cuda/cuda_gpu_executor.cc:937] successful NUMA node read from SysFS had negative value (-1), but there must be at least one NUMA node, so returning NUMA node zero\n",
      "2023-02-09 14:27:20.515821: I tensorflow/stream_executor/cuda/cuda_gpu_executor.cc:937] successful NUMA node read from SysFS had negative value (-1), but there must be at least one NUMA node, so returning NUMA node zero\n",
      "2023-02-09 14:27:20.517067: I tensorflow/core/platform/cpu_feature_guard.cc:142] This TensorFlow binary is optimized with oneAPI Deep Neural Network Library (oneDNN) to use the following CPU instructions in performance-critical operations:  AVX2 AVX512F FMA\n",
      "To enable them in other operations, rebuild TensorFlow with the appropriate compiler flags.\n",
      "2023-02-09 14:27:20.517455: I tensorflow/stream_executor/cuda/cuda_gpu_executor.cc:937] successful NUMA node read from SysFS had negative value (-1), but there must be at least one NUMA node, so returning NUMA node zero\n",
      "2023-02-09 14:27:20.518264: I tensorflow/stream_executor/cuda/cuda_gpu_executor.cc:937] successful NUMA node read from SysFS had negative value (-1), but there must be at least one NUMA node, so returning NUMA node zero\n",
      "2023-02-09 14:27:20.518982: I tensorflow/stream_executor/cuda/cuda_gpu_executor.cc:937] successful NUMA node read from SysFS had negative value (-1), but there must be at least one NUMA node, so returning NUMA node zero\n",
      "2023-02-09 14:27:22.647857: I tensorflow/stream_executor/cuda/cuda_gpu_executor.cc:937] successful NUMA node read from SysFS had negative value (-1), but there must be at least one NUMA node, so returning NUMA node zero\n",
      "2023-02-09 14:27:22.648768: I tensorflow/stream_executor/cuda/cuda_gpu_executor.cc:937] successful NUMA node read from SysFS had negative value (-1), but there must be at least one NUMA node, so returning NUMA node zero\n",
      "2023-02-09 14:27:22.649457: I tensorflow/stream_executor/cuda/cuda_gpu_executor.cc:937] successful NUMA node read from SysFS had negative value (-1), but there must be at least one NUMA node, so returning NUMA node zero\n",
      "2023-02-09 14:27:22.650059: I tensorflow/core/common_runtime/gpu/gpu_device.cc:1510] Created device /job:localhost/replica:0/task:0/device:GPU:0 with 15401 MB memory:  -> device: 0, name: Tesla P100-PCIE-16GB, pci bus id: 0000:00:04.0, compute capability: 6.0\n"
     ]
    }
   ],
   "source": [
    "from keras.layers import Input, Dense, Conv2D, MaxPooling2D, Flatten\n",
    "from keras.models import Model\n",
    "\n",
    "# Create the model\n",
    "input_img = Input(shape=(150, 150, 3))\n",
    "encoder = Conv2D(32, (3, 3), activation='relu', padding='same')(input_img)\n",
    "encoder = MaxPooling2D(pool_size=(2, 2))(encoder)\n",
    "encoder = Conv2D(32, (3, 3), activation='relu', padding='same')(encoder)\n",
    "encoder = MaxPooling2D(pool_size=(2, 2))(encoder)\n",
    "encoder = Flatten()(encoder)\n",
    "encoder = Dense(150, activation='relu')(encoder)\n",
    "encoder = Dense(1, activation='sigmoid')(encoder)\n",
    "# Compile the model\n",
    "model = Model(input_img, encoder)\n",
    "\n",
    "# Fit the model to the training data"
   ]
  },
  {
   "cell_type": "code",
   "execution_count": 18,
   "id": "09eca1ba",
   "metadata": {
    "execution": {
     "iopub.execute_input": "2023-02-09T14:27:23.102049Z",
     "iopub.status.busy": "2023-02-09T14:27:23.101451Z",
     "iopub.status.idle": "2023-02-09T14:27:23.107035Z",
     "shell.execute_reply": "2023-02-09T14:27:23.106154Z"
    },
    "id": "e16edc8f",
    "papermill": {
     "duration": 0.024378,
     "end_time": "2023-02-09T14:27:23.109000",
     "exception": false,
     "start_time": "2023-02-09T14:27:23.084622",
     "status": "completed"
    },
    "tags": []
   },
   "outputs": [],
   "source": [
    "callback = keras.callbacks.EarlyStopping(monitor='val_loss',\n",
    "                                            patience=10,\n",
    "                                            restore_best_weights=True)"
   ]
  },
  {
   "cell_type": "code",
   "execution_count": 19,
   "id": "23653206",
   "metadata": {
    "execution": {
     "iopub.execute_input": "2023-02-09T14:27:23.141034Z",
     "iopub.status.busy": "2023-02-09T14:27:23.140764Z",
     "iopub.status.idle": "2023-02-09T14:27:23.152126Z",
     "shell.execute_reply": "2023-02-09T14:27:23.151236Z"
    },
    "id": "6e904f7e",
    "papermill": {
     "duration": 0.029711,
     "end_time": "2023-02-09T14:27:23.154062",
     "exception": false,
     "start_time": "2023-02-09T14:27:23.124351",
     "status": "completed"
    },
    "tags": []
   },
   "outputs": [],
   "source": [
    "model.compile(optimizer='adam',\n",
    "loss='binary_crossentropy',\n",
    "metrics=['accuracy'])"
   ]
  },
  {
   "cell_type": "code",
   "execution_count": 20,
   "id": "92e4e0bd",
   "metadata": {
    "execution": {
     "iopub.execute_input": "2023-02-09T14:27:23.186929Z",
     "iopub.status.busy": "2023-02-09T14:27:23.186177Z",
     "iopub.status.idle": "2023-02-09T14:32:49.346480Z",
     "shell.execute_reply": "2023-02-09T14:32:49.345403Z"
    },
    "id": "d65c86f6",
    "outputId": "d020e353-5d1a-4903-be33-2334f544341a",
    "papermill": {
     "duration": 326.179376,
     "end_time": "2023-02-09T14:32:49.349230",
     "exception": false,
     "start_time": "2023-02-09T14:27:23.169854",
     "status": "completed"
    },
    "tags": []
   },
   "outputs": [
    {
     "name": "stderr",
     "output_type": "stream",
     "text": [
      "2023-02-09 14:27:23.190603: W tensorflow/core/framework/cpu_allocator_impl.cc:80] Allocation of 1901880000 exceeds 10% of free system memory.\n",
      "2023-02-09 14:27:25.409832: W tensorflow/core/framework/cpu_allocator_impl.cc:80] Allocation of 1901880000 exceeds 10% of free system memory.\n",
      "2023-02-09 14:27:26.935998: I tensorflow/compiler/mlir/mlir_graph_optimization_pass.cc:185] None of the MLIR Optimization Passes are enabled (registered 2)\n"
     ]
    },
    {
     "name": "stdout",
     "output_type": "stream",
     "text": [
      "Epoch 1/100\n"
     ]
    },
    {
     "name": "stderr",
     "output_type": "stream",
     "text": [
      "2023-02-09 14:27:28.257565: I tensorflow/stream_executor/cuda/cuda_dnn.cc:369] Loaded cuDNN version 8005\n"
     ]
    },
    {
     "name": "stdout",
     "output_type": "stream",
     "text": [
      "221/221 [==============================] - 11s 19ms/step - loss: 0.5837 - accuracy: 0.6658 - val_loss: 0.3840 - val_accuracy: 0.8235\n",
      "Epoch 2/100\n",
      "221/221 [==============================] - 3s 15ms/step - loss: 0.3180 - accuracy: 0.8634 - val_loss: 0.2603 - val_accuracy: 0.8973\n",
      "Epoch 3/100\n",
      "221/221 [==============================] - 3s 13ms/step - loss: 0.1829 - accuracy: 0.9287 - val_loss: 0.1417 - val_accuracy: 0.9535\n",
      "Epoch 4/100\n",
      "221/221 [==============================] - 3s 14ms/step - loss: 0.0964 - accuracy: 0.9668 - val_loss: 0.0941 - val_accuracy: 0.9659\n",
      "Epoch 5/100\n",
      "221/221 [==============================] - 3s 13ms/step - loss: 0.0507 - accuracy: 0.9832 - val_loss: 0.0884 - val_accuracy: 0.9648\n",
      "Epoch 6/100\n",
      "221/221 [==============================] - 3s 13ms/step - loss: 0.0363 - accuracy: 0.9876 - val_loss: 0.1794 - val_accuracy: 0.9319\n",
      "Epoch 7/100\n",
      "221/221 [==============================] - 3s 13ms/step - loss: 0.0213 - accuracy: 0.9933 - val_loss: 0.0514 - val_accuracy: 0.9796\n",
      "Epoch 8/100\n",
      "221/221 [==============================] - 3s 14ms/step - loss: 0.0216 - accuracy: 0.9929 - val_loss: 0.0894 - val_accuracy: 0.9728\n",
      "Epoch 9/100\n",
      "221/221 [==============================] - 3s 13ms/step - loss: 0.0077 - accuracy: 0.9979 - val_loss: 0.0469 - val_accuracy: 0.9858\n",
      "Epoch 10/100\n",
      "221/221 [==============================] - 3s 13ms/step - loss: 0.0018 - accuracy: 0.9999 - val_loss: 0.0473 - val_accuracy: 0.9886\n",
      "Epoch 11/100\n",
      "221/221 [==============================] - 3s 13ms/step - loss: 6.4131e-04 - accuracy: 1.0000 - val_loss: 0.0753 - val_accuracy: 0.9779\n",
      "Epoch 12/100\n",
      "221/221 [==============================] - 3s 15ms/step - loss: 7.0210e-04 - accuracy: 1.0000 - val_loss: 0.0479 - val_accuracy: 0.9875\n",
      "Epoch 13/100\n",
      "221/221 [==============================] - 3s 13ms/step - loss: 1.9561e-04 - accuracy: 1.0000 - val_loss: 0.0512 - val_accuracy: 0.9881\n",
      "Epoch 14/100\n",
      "221/221 [==============================] - 3s 13ms/step - loss: 1.3972e-04 - accuracy: 1.0000 - val_loss: 0.0529 - val_accuracy: 0.9875\n",
      "Epoch 15/100\n",
      "221/221 [==============================] - 3s 14ms/step - loss: 1.1210e-04 - accuracy: 1.0000 - val_loss: 0.0503 - val_accuracy: 0.9886\n",
      "Epoch 16/100\n",
      "221/221 [==============================] - 3s 13ms/step - loss: 9.4569e-05 - accuracy: 1.0000 - val_loss: 0.0545 - val_accuracy: 0.9869\n",
      "Epoch 17/100\n",
      "221/221 [==============================] - 3s 13ms/step - loss: 7.7931e-05 - accuracy: 1.0000 - val_loss: 0.0521 - val_accuracy: 0.9886\n",
      "Epoch 18/100\n",
      "221/221 [==============================] - 3s 13ms/step - loss: 6.6175e-05 - accuracy: 1.0000 - val_loss: 0.0561 - val_accuracy: 0.9875\n",
      "Epoch 19/100\n",
      "221/221 [==============================] - 3s 14ms/step - loss: 5.5983e-05 - accuracy: 1.0000 - val_loss: 0.0542 - val_accuracy: 0.9881\n",
      "Epoch 20/100\n",
      "221/221 [==============================] - 3s 13ms/step - loss: 4.7509e-05 - accuracy: 1.0000 - val_loss: 0.0549 - val_accuracy: 0.9886\n",
      "Epoch 21/100\n",
      "221/221 [==============================] - 3s 13ms/step - loss: 4.0701e-05 - accuracy: 1.0000 - val_loss: 0.0551 - val_accuracy: 0.9886\n",
      "Epoch 22/100\n",
      "221/221 [==============================] - 3s 13ms/step - loss: 3.5454e-05 - accuracy: 1.0000 - val_loss: 0.0578 - val_accuracy: 0.9881\n",
      "Epoch 23/100\n",
      "221/221 [==============================] - 3s 15ms/step - loss: 3.0668e-05 - accuracy: 1.0000 - val_loss: 0.0563 - val_accuracy: 0.9886\n",
      "Epoch 24/100\n",
      "221/221 [==============================] - 3s 13ms/step - loss: 2.6493e-05 - accuracy: 1.0000 - val_loss: 0.0585 - val_accuracy: 0.9881\n",
      "Epoch 25/100\n",
      "221/221 [==============================] - 3s 13ms/step - loss: 2.2966e-05 - accuracy: 1.0000 - val_loss: 0.0592 - val_accuracy: 0.9875\n",
      "Epoch 26/100\n",
      "221/221 [==============================] - 3s 13ms/step - loss: 1.9991e-05 - accuracy: 1.0000 - val_loss: 0.0570 - val_accuracy: 0.9886\n",
      "Epoch 27/100\n",
      "221/221 [==============================] - 3s 13ms/step - loss: 1.7231e-05 - accuracy: 1.0000 - val_loss: 0.0605 - val_accuracy: 0.9881\n",
      "Epoch 28/100\n",
      "221/221 [==============================] - 3s 13ms/step - loss: 1.4946e-05 - accuracy: 1.0000 - val_loss: 0.0560 - val_accuracy: 0.9886\n",
      "Epoch 29/100\n",
      "221/221 [==============================] - 3s 13ms/step - loss: 1.2938e-05 - accuracy: 1.0000 - val_loss: 0.0589 - val_accuracy: 0.9881\n",
      "Epoch 30/100\n",
      "221/221 [==============================] - 3s 14ms/step - loss: 1.1102e-05 - accuracy: 1.0000 - val_loss: 0.0615 - val_accuracy: 0.9875\n",
      "Epoch 31/100\n",
      "221/221 [==============================] - 3s 13ms/step - loss: 9.6610e-06 - accuracy: 1.0000 - val_loss: 0.0583 - val_accuracy: 0.9881\n",
      "Epoch 32/100\n",
      "221/221 [==============================] - 3s 13ms/step - loss: 8.4104e-06 - accuracy: 1.0000 - val_loss: 0.0579 - val_accuracy: 0.9886\n",
      "Epoch 33/100\n",
      "221/221 [==============================] - 3s 13ms/step - loss: 7.2511e-06 - accuracy: 1.0000 - val_loss: 0.0589 - val_accuracy: 0.9881\n",
      "Epoch 34/100\n",
      "221/221 [==============================] - 3s 15ms/step - loss: 6.4634e-06 - accuracy: 1.0000 - val_loss: 0.0613 - val_accuracy: 0.9881\n",
      "Epoch 35/100\n",
      "221/221 [==============================] - 3s 13ms/step - loss: 5.5760e-06 - accuracy: 1.0000 - val_loss: 0.0604 - val_accuracy: 0.9881\n",
      "Epoch 36/100\n",
      "221/221 [==============================] - 3s 13ms/step - loss: 4.8318e-06 - accuracy: 1.0000 - val_loss: 0.0615 - val_accuracy: 0.9881\n",
      "Epoch 37/100\n",
      "221/221 [==============================] - 3s 13ms/step - loss: 4.2959e-06 - accuracy: 1.0000 - val_loss: 0.0614 - val_accuracy: 0.9881\n",
      "Epoch 38/100\n",
      "221/221 [==============================] - 3s 13ms/step - loss: 3.7039e-06 - accuracy: 1.0000 - val_loss: 0.0616 - val_accuracy: 0.9886\n",
      "Epoch 39/100\n",
      "221/221 [==============================] - 3s 13ms/step - loss: 3.2232e-06 - accuracy: 1.0000 - val_loss: 0.0626 - val_accuracy: 0.9886\n",
      "Epoch 40/100\n",
      "221/221 [==============================] - 3s 13ms/step - loss: 2.8273e-06 - accuracy: 1.0000 - val_loss: 0.0613 - val_accuracy: 0.9881\n",
      "Epoch 41/100\n",
      "221/221 [==============================] - 3s 14ms/step - loss: 2.5152e-06 - accuracy: 1.0000 - val_loss: 0.0611 - val_accuracy: 0.9886\n",
      "Epoch 42/100\n",
      "221/221 [==============================] - 3s 13ms/step - loss: 2.1762e-06 - accuracy: 1.0000 - val_loss: 0.0618 - val_accuracy: 0.9886\n",
      "Epoch 43/100\n",
      "221/221 [==============================] - 3s 13ms/step - loss: 1.8906e-06 - accuracy: 1.0000 - val_loss: 0.0643 - val_accuracy: 0.9886\n",
      "Epoch 44/100\n",
      "221/221 [==============================] - 3s 14ms/step - loss: 1.6694e-06 - accuracy: 1.0000 - val_loss: 0.0632 - val_accuracy: 0.9886\n",
      "Epoch 45/100\n",
      "221/221 [==============================] - 3s 15ms/step - loss: 1.4723e-06 - accuracy: 1.0000 - val_loss: 0.0661 - val_accuracy: 0.9886\n",
      "Epoch 46/100\n",
      "221/221 [==============================] - 3s 13ms/step - loss: 1.3106e-06 - accuracy: 1.0000 - val_loss: 0.0647 - val_accuracy: 0.9886\n",
      "Epoch 47/100\n",
      "221/221 [==============================] - 3s 13ms/step - loss: 1.1609e-06 - accuracy: 1.0000 - val_loss: 0.0639 - val_accuracy: 0.9886\n",
      "Epoch 48/100\n",
      "221/221 [==============================] - 3s 13ms/step - loss: 1.0086e-06 - accuracy: 1.0000 - val_loss: 0.0658 - val_accuracy: 0.9892\n",
      "Epoch 49/100\n",
      "221/221 [==============================] - 3s 14ms/step - loss: 9.0247e-07 - accuracy: 1.0000 - val_loss: 0.0659 - val_accuracy: 0.9886\n",
      "Epoch 50/100\n",
      "221/221 [==============================] - 3s 13ms/step - loss: 7.9904e-07 - accuracy: 1.0000 - val_loss: 0.0652 - val_accuracy: 0.9892\n",
      "Epoch 51/100\n",
      "221/221 [==============================] - 3s 13ms/step - loss: 7.1308e-07 - accuracy: 1.0000 - val_loss: 0.0677 - val_accuracy: 0.9881\n",
      "Epoch 52/100\n",
      "221/221 [==============================] - 3s 14ms/step - loss: 6.2739e-07 - accuracy: 1.0000 - val_loss: 0.0655 - val_accuracy: 0.9886\n",
      "Epoch 53/100\n",
      "221/221 [==============================] - 3s 13ms/step - loss: 5.4964e-07 - accuracy: 1.0000 - val_loss: 0.0667 - val_accuracy: 0.9886\n",
      "Epoch 54/100\n",
      "221/221 [==============================] - 3s 13ms/step - loss: 4.8622e-07 - accuracy: 1.0000 - val_loss: 0.0677 - val_accuracy: 0.9892\n",
      "Epoch 55/100\n",
      "221/221 [==============================] - 3s 14ms/step - loss: 4.3009e-07 - accuracy: 1.0000 - val_loss: 0.0689 - val_accuracy: 0.9886\n",
      "Epoch 56/100\n",
      "221/221 [==============================] - 3s 14ms/step - loss: 3.8537e-07 - accuracy: 1.0000 - val_loss: 0.0687 - val_accuracy: 0.9892\n",
      "Epoch 57/100\n",
      "221/221 [==============================] - 3s 13ms/step - loss: 3.4746e-07 - accuracy: 1.0000 - val_loss: 0.0677 - val_accuracy: 0.9886\n",
      "Epoch 58/100\n",
      "221/221 [==============================] - 3s 13ms/step - loss: 3.0102e-07 - accuracy: 1.0000 - val_loss: 0.0703 - val_accuracy: 0.9892\n",
      "Epoch 59/100\n",
      "221/221 [==============================] - 3s 13ms/step - loss: 2.7469e-07 - accuracy: 1.0000 - val_loss: 0.0707 - val_accuracy: 0.9886\n",
      "Epoch 60/100\n",
      "221/221 [==============================] - 3s 14ms/step - loss: 2.3389e-07 - accuracy: 1.0000 - val_loss: 0.0736 - val_accuracy: 0.9886\n",
      "Epoch 61/100\n",
      "221/221 [==============================] - 3s 13ms/step - loss: 2.1020e-07 - accuracy: 1.0000 - val_loss: 0.0755 - val_accuracy: 0.9886\n",
      "Epoch 62/100\n",
      "221/221 [==============================] - 3s 13ms/step - loss: 1.8622e-07 - accuracy: 1.0000 - val_loss: 0.0747 - val_accuracy: 0.9886\n",
      "Epoch 63/100\n",
      "221/221 [==============================] - 3s 14ms/step - loss: 1.6635e-07 - accuracy: 1.0000 - val_loss: 0.0723 - val_accuracy: 0.9886\n",
      "Epoch 64/100\n",
      "221/221 [==============================] - 3s 13ms/step - loss: 1.4727e-07 - accuracy: 1.0000 - val_loss: 0.0731 - val_accuracy: 0.9886\n",
      "Epoch 65/100\n",
      "221/221 [==============================] - 3s 13ms/step - loss: 1.3252e-07 - accuracy: 1.0000 - val_loss: 0.0742 - val_accuracy: 0.9892\n",
      "Epoch 66/100\n",
      "221/221 [==============================] - 3s 14ms/step - loss: 1.1793e-07 - accuracy: 1.0000 - val_loss: 0.0751 - val_accuracy: 0.9886\n",
      "Epoch 67/100\n",
      "221/221 [==============================] - 3s 14ms/step - loss: 1.0894e-07 - accuracy: 1.0000 - val_loss: 0.0743 - val_accuracy: 0.9886\n",
      "Epoch 68/100\n",
      "221/221 [==============================] - 3s 13ms/step - loss: 9.3846e-08 - accuracy: 1.0000 - val_loss: 0.0749 - val_accuracy: 0.9886\n",
      "Epoch 69/100\n",
      "221/221 [==============================] - 3s 13ms/step - loss: 8.3193e-08 - accuracy: 1.0000 - val_loss: 0.0764 - val_accuracy: 0.9886\n",
      "Epoch 70/100\n",
      "221/221 [==============================] - 3s 13ms/step - loss: 7.5727e-08 - accuracy: 1.0000 - val_loss: 0.0755 - val_accuracy: 0.9886\n",
      "Epoch 71/100\n",
      "221/221 [==============================] - 3s 14ms/step - loss: 6.5777e-08 - accuracy: 1.0000 - val_loss: 0.0775 - val_accuracy: 0.9886\n",
      "Epoch 72/100\n",
      "221/221 [==============================] - 3s 13ms/step - loss: 5.9958e-08 - accuracy: 1.0000 - val_loss: 0.0781 - val_accuracy: 0.9892\n",
      "Epoch 73/100\n",
      "221/221 [==============================] - 3s 13ms/step - loss: 5.2930e-08 - accuracy: 1.0000 - val_loss: 0.0758 - val_accuracy: 0.9886\n",
      "Epoch 74/100\n",
      "221/221 [==============================] - 3s 13ms/step - loss: 4.8198e-08 - accuracy: 1.0000 - val_loss: 0.0790 - val_accuracy: 0.9898\n",
      "Epoch 75/100\n",
      "221/221 [==============================] - 3s 14ms/step - loss: 4.2501e-08 - accuracy: 1.0000 - val_loss: 0.0781 - val_accuracy: 0.9892\n",
      "Epoch 76/100\n",
      "221/221 [==============================] - 3s 13ms/step - loss: 3.7792e-08 - accuracy: 1.0000 - val_loss: 0.0791 - val_accuracy: 0.9892\n",
      "Epoch 77/100\n",
      "221/221 [==============================] - 3s 14ms/step - loss: 3.3502e-08 - accuracy: 1.0000 - val_loss: 0.0804 - val_accuracy: 0.9892\n",
      "Epoch 78/100\n",
      "221/221 [==============================] - 3s 14ms/step - loss: 3.0177e-08 - accuracy: 1.0000 - val_loss: 0.0798 - val_accuracy: 0.9892\n",
      "Epoch 79/100\n",
      "221/221 [==============================] - 3s 13ms/step - loss: 2.6966e-08 - accuracy: 1.0000 - val_loss: 0.0796 - val_accuracy: 0.9886\n",
      "Epoch 80/100\n",
      "221/221 [==============================] - 3s 13ms/step - loss: 2.4584e-08 - accuracy: 1.0000 - val_loss: 0.0821 - val_accuracy: 0.9898\n",
      "Epoch 81/100\n",
      "221/221 [==============================] - 3s 13ms/step - loss: 2.1731e-08 - accuracy: 1.0000 - val_loss: 0.0825 - val_accuracy: 0.9892\n",
      "Epoch 82/100\n",
      "221/221 [==============================] - 3s 14ms/step - loss: 1.9696e-08 - accuracy: 1.0000 - val_loss: 0.0814 - val_accuracy: 0.9886\n",
      "Epoch 83/100\n",
      "221/221 [==============================] - 3s 13ms/step - loss: 1.7551e-08 - accuracy: 1.0000 - val_loss: 0.0828 - val_accuracy: 0.9898\n",
      "Epoch 84/100\n",
      "221/221 [==============================] - 3s 13ms/step - loss: 1.5530e-08 - accuracy: 1.0000 - val_loss: 0.0833 - val_accuracy: 0.9892\n",
      "Epoch 85/100\n",
      "221/221 [==============================] - 3s 13ms/step - loss: 1.3871e-08 - accuracy: 1.0000 - val_loss: 0.0831 - val_accuracy: 0.9886\n",
      "Epoch 86/100\n",
      "221/221 [==============================] - 3s 14ms/step - loss: 1.2871e-08 - accuracy: 1.0000 - val_loss: 0.0838 - val_accuracy: 0.9892\n",
      "Epoch 87/100\n",
      "221/221 [==============================] - 3s 14ms/step - loss: 1.1386e-08 - accuracy: 1.0000 - val_loss: 0.0841 - val_accuracy: 0.9898\n",
      "Epoch 88/100\n",
      "221/221 [==============================] - 3s 13ms/step - loss: 1.0074e-08 - accuracy: 1.0000 - val_loss: 0.0837 - val_accuracy: 0.9898\n",
      "Epoch 89/100\n",
      "221/221 [==============================] - 3s 14ms/step - loss: 9.1133e-09 - accuracy: 1.0000 - val_loss: 0.0866 - val_accuracy: 0.9898\n",
      "Epoch 90/100\n",
      "221/221 [==============================] - 3s 14ms/step - loss: 8.3660e-09 - accuracy: 1.0000 - val_loss: 0.0870 - val_accuracy: 0.9892\n",
      "Epoch 91/100\n",
      "221/221 [==============================] - 3s 13ms/step - loss: 7.3521e-09 - accuracy: 1.0000 - val_loss: 0.0872 - val_accuracy: 0.9898\n",
      "Epoch 92/100\n",
      "221/221 [==============================] - 3s 13ms/step - loss: 6.6096e-09 - accuracy: 1.0000 - val_loss: 0.0876 - val_accuracy: 0.9898\n",
      "Epoch 93/100\n",
      "221/221 [==============================] - 3s 14ms/step - loss: 6.0663e-09 - accuracy: 1.0000 - val_loss: 0.0880 - val_accuracy: 0.9898\n",
      "Epoch 94/100\n",
      "221/221 [==============================] - 3s 13ms/step - loss: 5.3802e-09 - accuracy: 1.0000 - val_loss: 0.0871 - val_accuracy: 0.9898\n",
      "Epoch 95/100\n",
      "221/221 [==============================] - 3s 13ms/step - loss: 4.8346e-09 - accuracy: 1.0000 - val_loss: 0.0881 - val_accuracy: 0.9898\n",
      "Epoch 96/100\n",
      "221/221 [==============================] - 3s 13ms/step - loss: 4.3726e-09 - accuracy: 1.0000 - val_loss: 0.0889 - val_accuracy: 0.9898\n",
      "Epoch 97/100\n",
      "221/221 [==============================] - 3s 14ms/step - loss: 4.0264e-09 - accuracy: 1.0000 - val_loss: 0.0898 - val_accuracy: 0.9898\n",
      "Epoch 98/100\n",
      "221/221 [==============================] - 3s 14ms/step - loss: 3.5528e-09 - accuracy: 1.0000 - val_loss: 0.0908 - val_accuracy: 0.9898\n",
      "Epoch 99/100\n",
      "221/221 [==============================] - 3s 13ms/step - loss: 3.2076e-09 - accuracy: 1.0000 - val_loss: 0.0896 - val_accuracy: 0.9898\n",
      "Epoch 100/100\n",
      "221/221 [==============================] - 3s 14ms/step - loss: 2.9543e-09 - accuracy: 1.0000 - val_loss: 0.0911 - val_accuracy: 0.9898\n"
     ]
    }
   ],
   "source": [
    "result = model.fit(train_data, train_labels, validation_data=(val_data, val_labels), epochs=100)"
   ]
  },
  {
   "cell_type": "code",
   "execution_count": 21,
   "id": "5138b412",
   "metadata": {
    "execution": {
     "iopub.execute_input": "2023-02-09T14:32:49.854254Z",
     "iopub.status.busy": "2023-02-09T14:32:49.853867Z",
     "iopub.status.idle": "2023-02-09T14:32:50.062942Z",
     "shell.execute_reply": "2023-02-09T14:32:50.061964Z"
    },
    "id": "0da30a2e",
    "outputId": "1a78683a-9b8b-4568-a84b-0d3e71bbb02a",
    "papermill": {
     "duration": 0.46465,
     "end_time": "2023-02-09T14:32:50.064916",
     "exception": false,
     "start_time": "2023-02-09T14:32:49.600266",
     "status": "completed"
    },
    "tags": []
   },
   "outputs": [
    {
     "data": {
      "image/png": "[encoded data removed]",
      "text/plain": [
       "<Figure size 432x288 with 1 Axes>"
      ]
     },
     "metadata": {
      "needs_background": "light"
     },
     "output_type": "display_data"
    }
   ],
   "source": [
    "# dictionary keys seems to have changed in version 2\n",
    "k = ''\n",
    "if 'accuracy' in result.history :\n",
    "    k = 'accuracy'    \n",
    "\n",
    "if 'acc' in result.history :\n",
    "    k = 'acc'\n",
    "    \n",
    "if k != '' :    \n",
    "    plt.plot(result.history[k])\n",
    "    plt.plot(result.history['val_'+k])\n",
    "    plt.title('Model Accuracy')\n",
    "    plt.ylabel('Accuracy')\n",
    "    plt.xlabel('Epoch')\n",
    "    plt.legend(['train', 'test'], loc='upper left')\n",
    "    plt.show()"
   ]
  },
  {
   "cell_type": "code",
   "execution_count": 22,
   "id": "bdcdde30",
   "metadata": {
    "execution": {
     "iopub.execute_input": "2023-02-09T14:32:50.613090Z",
     "iopub.status.busy": "2023-02-09T14:32:50.612745Z",
     "iopub.status.idle": "2023-02-09T14:32:50.816198Z",
     "shell.execute_reply": "2023-02-09T14:32:50.815078Z"
    },
    "id": "e54d9548",
    "outputId": "21d7a848-22c0-4678-c05a-ba571a2e778d",
    "papermill": {
     "duration": 0.458998,
     "end_time": "2023-02-09T14:32:50.818381",
     "exception": false,
     "start_time": "2023-02-09T14:32:50.359383",
     "status": "completed"
    },
    "tags": []
   },
   "outputs": [
    {
     "data": {
      "image/png": "[encoded data removed]",
      "text/plain": [
       "<Figure size 432x288 with 1 Axes>"
      ]
     },
     "metadata": {
      "needs_background": "light"
     },
     "output_type": "display_data"
    }
   ],
   "source": [
    "plt.plot(result.history['loss'])\n",
    "plt.plot(result.history['val_loss'])\n",
    "plt.title('Model loss')\n",
    "plt.ylabel('Loss')\n",
    "plt.xlabel('Epoch')\n",
    "plt.legend(['train', 'test'], loc='upper left')\n",
    "plt.show()"
   ]
  },
  {
   "cell_type": "code",
   "execution_count": 23,
   "id": "bd067452",
   "metadata": {
    "execution": {
     "iopub.execute_input": "2023-02-09T14:32:51.334019Z",
     "iopub.status.busy": "2023-02-09T14:32:51.332978Z",
     "iopub.status.idle": "2023-02-09T14:32:51.505405Z",
     "shell.execute_reply": "2023-02-09T14:32:51.504400Z"
    },
    "id": "da581713",
    "papermill": {
     "duration": 0.427839,
     "end_time": "2023-02-09T14:32:51.508324",
     "exception": false,
     "start_time": "2023-02-09T14:32:51.080485",
     "status": "completed"
    },
    "tags": []
   },
   "outputs": [],
   "source": [
    "model.save('zheimer.h5')"
   ]
  },
  {
   "cell_type": "code",
   "execution_count": null,
   "id": "b0d399de",
   "metadata": {
    "id": "50d5dffc",
    "papermill": {
     "duration": 0.31301,
     "end_time": "2023-02-09T14:32:52.075195",
     "exception": false,
     "start_time": "2023-02-09T14:32:51.762185",
     "status": "completed"
    },
    "tags": []
   },
   "outputs": [],
   "source": []
  },
  {
   "cell_type": "code",
   "execution_count": null,
   "id": "71b5cd71",
   "metadata": {
    "id": "0ea495ed",
    "papermill": {
     "duration": 0.248415,
     "end_time": "2023-02-09T14:32:52.573972",
     "exception": false,
     "start_time": "2023-02-09T14:32:52.325557",
     "status": "completed"
    },
    "tags": []
   },
   "outputs": [],
   "source": []
  },
  {
   "cell_type": "code",
   "execution_count": null,
   "id": "0af5d091",
   "metadata": {
    "id": "9b7311d0",
    "papermill": {
     "duration": 0.254456,
     "end_time": "2023-02-09T14:32:53.080496",
     "exception": false,
     "start_time": "2023-02-09T14:32:52.826040",
     "status": "completed"
    },
    "tags": []
   },
   "outputs": [],
   "source": []
  },
  {
   "cell_type": "code",
   "execution_count": 24,
   "id": "e6d2524e",
   "metadata": {
    "execution": {
     "iopub.execute_input": "2023-02-09T14:32:53.637814Z",
     "iopub.status.busy": "2023-02-09T14:32:53.637439Z",
     "iopub.status.idle": "2023-02-09T14:32:55.555541Z",
     "shell.execute_reply": "2023-02-09T14:32:55.554579Z"
    },
    "id": "7d0364d1",
    "outputId": "33815bec-7a39-42f3-f009-f06d00b73a04",
    "papermill": {
     "duration": 2.218152,
     "end_time": "2023-02-09T14:32:55.558033",
     "exception": false,
     "start_time": "2023-02-09T14:32:53.339881",
     "status": "completed"
    },
    "tags": []
   },
   "outputs": [
    {
     "name": "stderr",
     "output_type": "stream",
     "text": [
      "2023-02-09 14:32:53.641078: W tensorflow/core/framework/cpu_allocator_impl.cc:80] Allocation of 594540000 exceeds 10% of free system memory.\n",
      "2023-02-09 14:32:54.383407: W tensorflow/core/framework/cpu_allocator_impl.cc:80] Allocation of 594540000 exceeds 10% of free system memory.\n"
     ]
    },
    {
     "name": "stdout",
     "output_type": "stream",
     "text": [
      "69/69 [==============================] - 1s 7ms/step - loss: 0.1255 - accuracy: 0.9864\n",
      "Loss:  0.1255057454109192\n",
      "Accuracy:  0.9863760471343994\n"
     ]
    }
   ],
   "source": [
    "loss, accuracy = model.evaluate(test_data, test_labels)\n",
    "print(\"Loss: \", loss)\n",
    "print(\"Accuracy: \", accuracy)"
   ]
  },
  {
   "cell_type": "code",
   "execution_count": 25,
   "id": "d027a2c8",
   "metadata": {
    "execution": {
     "iopub.execute_input": "2023-02-09T14:32:56.239219Z",
     "iopub.status.busy": "2023-02-09T14:32:56.238737Z",
     "iopub.status.idle": "2023-02-09T14:32:56.249640Z",
     "shell.execute_reply": "2023-02-09T14:32:56.248773Z"
    },
    "id": "27a7c0f1",
    "outputId": "d1ed42c4-f681-4012-a440-8f017f637f8a",
    "papermill": {
     "duration": 0.410472,
     "end_time": "2023-02-09T14:32:56.252363",
     "exception": false,
     "start_time": "2023-02-09T14:32:55.841891",
     "status": "completed"
    },
    "tags": []
   },
   "outputs": [
    {
     "name": "stdout",
     "output_type": "stream",
     "text": [
      "Model: \"model\"\n",
      "_________________________________________________________________\n",
      "Layer (type)                 Output Shape              Param #   \n",
      "=================================================================\n",
      "input_1 (InputLayer)         [(None, 150, 150, 3)]     0         \n",
      "_________________________________________________________________\n",
      "conv2d (Conv2D)              (None, 150, 150, 32)      896       \n",
      "_________________________________________________________________\n",
      "max_pooling2d (MaxPooling2D) (None, 75, 75, 32)        0         \n",
      "_________________________________________________________________\n",
      "conv2d_1 (Conv2D)            (None, 75, 75, 32)        9248      \n",
      "_________________________________________________________________\n",
      "max_pooling2d_1 (MaxPooling2 (None, 37, 37, 32)        0         \n",
      "_________________________________________________________________\n",
      "flatten (Flatten)            (None, 43808)             0         \n",
      "_________________________________________________________________\n",
      "dense (Dense)                (None, 150)               6571350   \n",
      "_________________________________________________________________\n",
      "dense_1 (Dense)              (None, 1)                 151       \n",
      "=================================================================\n",
      "Total params: 6,581,645\n",
      "Trainable params: 6,581,645\n",
      "Non-trainable params: 0\n",
      "_________________________________________________________________\n",
      "None\n"
     ]
    }
   ],
   "source": [
    "print(model.summary())"
   ]
  },
  {
   "cell_type": "code",
   "execution_count": null,
   "id": "81bdd091",
   "metadata": {
    "id": "9c933c9e",
    "papermill": {
     "duration": 0.388386,
     "end_time": "2023-02-09T14:32:57.033990",
     "exception": false,
     "start_time": "2023-02-09T14:32:56.645604",
     "status": "completed"
    },
    "tags": []
   },
   "outputs": [],
   "source": []
  },
  {
   "cell_type": "code",
   "execution_count": 26,
   "id": "2ea97bd3",
   "metadata": {
    "execution": {
     "iopub.execute_input": "2023-02-09T14:32:57.599072Z",
     "iopub.status.busy": "2023-02-09T14:32:57.598706Z",
     "iopub.status.idle": "2023-02-09T14:32:57.603816Z",
     "shell.execute_reply": "2023-02-09T14:32:57.602695Z"
    },
    "id": "6587f7c3",
    "papermill": {
     "duration": 0.305249,
     "end_time": "2023-02-09T14:32:57.606276",
     "exception": false,
     "start_time": "2023-02-09T14:32:57.301027",
     "status": "completed"
    },
    "tags": []
   },
   "outputs": [],
   "source": [
    "#learning rate\n",
    "def lr(model):\n",
    "# Get the optimizer object from the model\n",
    "  optimizer = model.optimizer\n",
    "# Get the learning rate from the optimizer\n",
    "  learning_rate = optimizer.lr.numpy()\n",
    "  print(\"Learning Rate:\", learning_rate)\n",
    "  return learning_rate"
   ]
  },
  {
   "cell_type": "code",
   "execution_count": 27,
   "id": "66aab5ac",
   "metadata": {
    "execution": {
     "iopub.execute_input": "2023-02-09T14:32:58.132800Z",
     "iopub.status.busy": "2023-02-09T14:32:58.132439Z",
     "iopub.status.idle": "2023-02-09T14:32:58.138239Z",
     "shell.execute_reply": "2023-02-09T14:32:58.137315Z"
    },
    "id": "ccf9e99b",
    "outputId": "f0449049-cb30-4032-fa95-3b8707f26b7e",
    "papermill": {
     "duration": 0.260678,
     "end_time": "2023-02-09T14:32:58.140584",
     "exception": false,
     "start_time": "2023-02-09T14:32:57.879906",
     "status": "completed"
    },
    "tags": []
   },
   "outputs": [
    {
     "name": "stdout",
     "output_type": "stream",
     "text": [
      "Learning Rate: 0.001\n"
     ]
    }
   ],
   "source": [
    "lr1=lr(model)"
   ]
  },
  {
   "cell_type": "code",
   "execution_count": 28,
   "id": "3d4ad03e",
   "metadata": {
    "execution": {
     "iopub.execute_input": "2023-02-09T14:32:58.640714Z",
     "iopub.status.busy": "2023-02-09T14:32:58.640022Z",
     "iopub.status.idle": "2023-02-09T14:32:58.645394Z",
     "shell.execute_reply": "2023-02-09T14:32:58.644447Z"
    },
    "id": "c645862d",
    "papermill": {
     "duration": 0.258577,
     "end_time": "2023-02-09T14:32:58.647591",
     "exception": false,
     "start_time": "2023-02-09T14:32:58.389014",
     "status": "completed"
    },
    "tags": []
   },
   "outputs": [],
   "source": [
    "def drop_out(model):\n",
    "# Iterate over the layers in the model\n",
    "  for i, layer in enumerate(model.layers):\n",
    "    if isinstance(layer, tf.keras.layers.Dropout):\n",
    "        dropout_rate = layer.rate\n",
    "        print(\"Dropout Layer #{}: rate={}\".format(i, dropout_rate))\n",
    "        return dropout_rate\n"
   ]
  },
  {
   "cell_type": "code",
   "execution_count": 29,
   "id": "184d32ac",
   "metadata": {
    "execution": {
     "iopub.execute_input": "2023-02-09T14:32:59.193658Z",
     "iopub.status.busy": "2023-02-09T14:32:59.193312Z",
     "iopub.status.idle": "2023-02-09T14:32:59.198592Z",
     "shell.execute_reply": "2023-02-09T14:32:59.197541Z"
    },
    "id": "d4efcd8b",
    "outputId": "351ccaf5-6e2f-4e75-be89-de22baf539a6",
    "papermill": {
     "duration": 0.304042,
     "end_time": "2023-02-09T14:32:59.202852",
     "exception": false,
     "start_time": "2023-02-09T14:32:58.898810",
     "status": "completed"
    },
    "tags": []
   },
   "outputs": [
    {
     "name": "stdout",
     "output_type": "stream",
     "text": [
      "None\n"
     ]
    }
   ],
   "source": [
    "do=drop_out(model)\n",
    "print(do)"
   ]
  },
  {
   "cell_type": "code",
   "execution_count": 30,
   "id": "3dcf6902",
   "metadata": {
    "execution": {
     "iopub.execute_input": "2023-02-09T14:32:59.706770Z",
     "iopub.status.busy": "2023-02-09T14:32:59.706400Z",
     "iopub.status.idle": "2023-02-09T14:32:59.711887Z",
     "shell.execute_reply": "2023-02-09T14:32:59.710838Z"
    },
    "id": "c849191f",
    "papermill": {
     "duration": 0.260428,
     "end_time": "2023-02-09T14:32:59.714019",
     "exception": false,
     "start_time": "2023-02-09T14:32:59.453591",
     "status": "completed"
    },
    "tags": []
   },
   "outputs": [],
   "source": [
    "def attlayers(model):\n",
    "# Get the number of hidden attentions\n",
    " attention_layers = [layer for layer in model.layers if isinstance(layer, keras.layers.Attention)]\n",
    " num_hidden_attentions = len(attention_layers)\n",
    "\n",
    " print(\"Number of hidden attentions:\", num_hidden_attentions)\n",
    " return num_hidden_attentions"
   ]
  },
  {
   "cell_type": "code",
   "execution_count": 31,
   "id": "36e720da",
   "metadata": {
    "execution": {
     "iopub.execute_input": "2023-02-09T14:33:00.217783Z",
     "iopub.status.busy": "2023-02-09T14:33:00.217419Z",
     "iopub.status.idle": "2023-02-09T14:33:00.222749Z",
     "shell.execute_reply": "2023-02-09T14:33:00.221821Z"
    },
    "id": "3095f95c",
    "outputId": "02fea5fb-ed09-489a-c914-281011ff642f",
    "papermill": {
     "duration": 0.261328,
     "end_time": "2023-02-09T14:33:00.225554",
     "exception": false,
     "start_time": "2023-02-09T14:32:59.964226",
     "status": "completed"
    },
    "tags": []
   },
   "outputs": [
    {
     "name": "stdout",
     "output_type": "stream",
     "text": [
      "Number of hidden attentions: 0\n"
     ]
    }
   ],
   "source": [
    "attlayer=attlayers(model)"
   ]
  },
  {
   "cell_type": "code",
   "execution_count": 32,
   "id": "90603329",
   "metadata": {
    "execution": {
     "iopub.execute_input": "2023-02-09T14:33:00.778519Z",
     "iopub.status.busy": "2023-02-09T14:33:00.778163Z",
     "iopub.status.idle": "2023-02-09T14:33:00.784035Z",
     "shell.execute_reply": "2023-02-09T14:33:00.783149Z"
    },
    "id": "1a4c41be",
    "papermill": {
     "duration": 0.259306,
     "end_time": "2023-02-09T14:33:00.785978",
     "exception": false,
     "start_time": "2023-02-09T14:33:00.526672",
     "status": "completed"
    },
    "tags": []
   },
   "outputs": [],
   "source": [
    "def hidunit(model):\n",
    "# Get the number of hidden units\n",
    " num_hidden_units = 0\n",
    " for layer in model.layers:\n",
    "    if hasattr(layer, \"units\"):\n",
    "        num_hidden_units += layer.units\n",
    "\n",
    " print(\"Number of hidden units:\", num_hidden_units)\n",
    " return num_hidden_units\n"
   ]
  },
  {
   "cell_type": "code",
   "execution_count": 33,
   "id": "5877f9e3",
   "metadata": {
    "execution": {
     "iopub.execute_input": "2023-02-09T14:33:01.302952Z",
     "iopub.status.busy": "2023-02-09T14:33:01.302599Z",
     "iopub.status.idle": "2023-02-09T14:33:01.307582Z",
     "shell.execute_reply": "2023-02-09T14:33:01.306649Z"
    },
    "id": "4f1034ff",
    "outputId": "239d65f7-a908-478a-d3a6-11b27833315f",
    "papermill": {
     "duration": 0.266599,
     "end_time": "2023-02-09T14:33:01.310070",
     "exception": false,
     "start_time": "2023-02-09T14:33:01.043471",
     "status": "completed"
    },
    "tags": []
   },
   "outputs": [
    {
     "name": "stdout",
     "output_type": "stream",
     "text": [
      "Number of hidden units: 151\n"
     ]
    }
   ],
   "source": [
    "hiddenunit=hidunit(model)"
   ]
  },
  {
   "cell_type": "code",
   "execution_count": 34,
   "id": "ed63cf83",
   "metadata": {
    "execution": {
     "iopub.execute_input": "2023-02-09T14:33:01.845624Z",
     "iopub.status.busy": "2023-02-09T14:33:01.844694Z",
     "iopub.status.idle": "2023-02-09T14:33:01.850754Z",
     "shell.execute_reply": "2023-02-09T14:33:01.849871Z"
    },
    "id": "7aad93d1",
    "papermill": {
     "duration": 0.287456,
     "end_time": "2023-02-09T14:33:01.852852",
     "exception": false,
     "start_time": "2023-02-09T14:33:01.565396",
     "status": "completed"
    },
    "tags": []
   },
   "outputs": [],
   "source": [
    "def conv(model):\n",
    "# Get the number of Conv2D layers\n",
    " conv2d_layers = [layer for layer in model.layers if isinstance(layer, keras.layers.Conv2D)]\n",
    " num_conv2d_layers = len(conv2d_layers)\n",
    " print(\"Number of Conv2D layers:\", num_conv2d_layers)\n",
    " return num_conv2d_layers\n"
   ]
  },
  {
   "cell_type": "code",
   "execution_count": 35,
   "id": "b9a088bb",
   "metadata": {
    "execution": {
     "iopub.execute_input": "2023-02-09T14:33:02.410033Z",
     "iopub.status.busy": "2023-02-09T14:33:02.409069Z",
     "iopub.status.idle": "2023-02-09T14:33:02.414515Z",
     "shell.execute_reply": "2023-02-09T14:33:02.413574Z"
    },
    "id": "39efbdf2",
    "outputId": "9718ba51-ce9e-4002-a3e5-62e00d279f0f",
    "papermill": {
     "duration": 0.264054,
     "end_time": "2023-02-09T14:33:02.417495",
     "exception": false,
     "start_time": "2023-02-09T14:33:02.153441",
     "status": "completed"
    },
    "tags": []
   },
   "outputs": [
    {
     "name": "stdout",
     "output_type": "stream",
     "text": [
      "Number of Conv2D layers: 2\n"
     ]
    }
   ],
   "source": [
    "convl=conv(model)"
   ]
  },
  {
   "cell_type": "code",
   "execution_count": 36,
   "id": "5cf753fe",
   "metadata": {
    "execution": {
     "iopub.execute_input": "2023-02-09T14:33:02.929115Z",
     "iopub.status.busy": "2023-02-09T14:33:02.928760Z",
     "iopub.status.idle": "2023-02-09T14:33:02.933932Z",
     "shell.execute_reply": "2023-02-09T14:33:02.932986Z"
    },
    "id": "13448831",
    "papermill": {
     "duration": 0.264393,
     "end_time": "2023-02-09T14:33:02.935914",
     "exception": false,
     "start_time": "2023-02-09T14:33:02.671521",
     "status": "completed"
    },
    "tags": []
   },
   "outputs": [],
   "source": [
    "def conv3(model):\n",
    "\n",
    "# Get the number of Conv3D layers\n",
    " conv3d_layers = [layer for layer in model.layers if isinstance(layer, keras.layers.Conv3D)]\n",
    " num_conv3d = len(conv3d_layers)\n",
    " print(\"Number of Conv3D layers:\", num_conv3d)\n",
    " return num_conv3d\n"
   ]
  },
  {
   "cell_type": "code",
   "execution_count": 37,
   "id": "58a4e36e",
   "metadata": {
    "execution": {
     "iopub.execute_input": "2023-02-09T14:33:03.442680Z",
     "iopub.status.busy": "2023-02-09T14:33:03.442308Z",
     "iopub.status.idle": "2023-02-09T14:33:03.447399Z",
     "shell.execute_reply": "2023-02-09T14:33:03.446439Z"
    },
    "id": "8c7c95a0",
    "outputId": "77a26514-0fca-45db-ed53-01805f2b6a0b",
    "papermill": {
     "duration": 0.262918,
     "end_time": "2023-02-09T14:33:03.450500",
     "exception": false,
     "start_time": "2023-02-09T14:33:03.187582",
     "status": "completed"
    },
    "tags": []
   },
   "outputs": [
    {
     "name": "stdout",
     "output_type": "stream",
     "text": [
      "Number of Conv3D layers: 0\n"
     ]
    }
   ],
   "source": [
    "conv3l=conv3(model)"
   ]
  },
  {
   "cell_type": "code",
   "execution_count": null,
   "id": "6cf2974d",
   "metadata": {
    "id": "94a0bebc",
    "papermill": {
     "duration": 0.251595,
     "end_time": "2023-02-09T14:33:04.002343",
     "exception": false,
     "start_time": "2023-02-09T14:33:03.750748",
     "status": "completed"
    },
    "tags": []
   },
   "outputs": [],
   "source": []
  },
  {
   "cell_type": "code",
   "execution_count": 38,
   "id": "7f1c84b6",
   "metadata": {
    "execution": {
     "iopub.execute_input": "2023-02-09T14:33:04.512474Z",
     "iopub.status.busy": "2023-02-09T14:33:04.512100Z",
     "iopub.status.idle": "2023-02-09T14:33:04.517197Z",
     "shell.execute_reply": "2023-02-09T14:33:04.516288Z"
    },
    "id": "3ed2edb5",
    "papermill": {
     "duration": 0.259427,
     "end_time": "2023-02-09T14:33:04.519235",
     "exception": false,
     "start_time": "2023-02-09T14:33:04.259808",
     "status": "completed"
    },
    "tags": []
   },
   "outputs": [],
   "source": [
    "def dense(model):\n",
    "# Get the number of dense layers\n",
    " dense_layers = [layer for layer in model.layers if isinstance(layer, keras.layers.Dense)]\n",
    " num_dense_layers = len(dense_layers)\n",
    " print(\"Number of dense layers:\", num_dense_layers)\n",
    " return num_dense_layers\n"
   ]
  },
  {
   "cell_type": "code",
   "execution_count": 39,
   "id": "82f2fff0",
   "metadata": {
    "execution": {
     "iopub.execute_input": "2023-02-09T14:33:05.021565Z",
     "iopub.status.busy": "2023-02-09T14:33:05.021192Z",
     "iopub.status.idle": "2023-02-09T14:33:05.026261Z",
     "shell.execute_reply": "2023-02-09T14:33:05.025335Z"
    },
    "id": "e6f66d60",
    "outputId": "00dbebb0-b69b-4bb3-f1e3-b304bf4947bc",
    "papermill": {
     "duration": 0.260714,
     "end_time": "2023-02-09T14:33:05.029462",
     "exception": false,
     "start_time": "2023-02-09T14:33:04.768748",
     "status": "completed"
    },
    "tags": []
   },
   "outputs": [
    {
     "name": "stdout",
     "output_type": "stream",
     "text": [
      "Number of dense layers: 2\n"
     ]
    }
   ],
   "source": [
    "denslayr=dense(model)"
   ]
  },
  {
   "cell_type": "code",
   "execution_count": 40,
   "id": "d3ffce66",
   "metadata": {
    "execution": {
     "iopub.execute_input": "2023-02-09T14:33:05.801013Z",
     "iopub.status.busy": "2023-02-09T14:33:05.800663Z",
     "iopub.status.idle": "2023-02-09T14:33:05.806264Z",
     "shell.execute_reply": "2023-02-09T14:33:05.805304Z"
    },
    "id": "bf68bd3e",
    "papermill": {
     "duration": 0.285222,
     "end_time": "2023-02-09T14:33:05.808181",
     "exception": false,
     "start_time": "2023-02-09T14:33:05.522959",
     "status": "completed"
    },
    "tags": []
   },
   "outputs": [],
   "source": [
    "def upsamling(model):\n",
    "\n",
    "# Get the number of up-sampling layers\n",
    " upsampling_layers = [layer for layer in model.layers if isinstance(layer, keras.layers.UpSampling2D)]\n",
    " num_upsampling_layers = len(upsampling_layers)\n",
    " print(\"Number of up-sampling layers:\", num_upsampling_layers)\n",
    " return num_upsampling_layers"
   ]
  },
  {
   "cell_type": "code",
   "execution_count": 41,
   "id": "cdcb9e34",
   "metadata": {
    "execution": {
     "iopub.execute_input": "2023-02-09T14:33:06.318438Z",
     "iopub.status.busy": "2023-02-09T14:33:06.317515Z",
     "iopub.status.idle": "2023-02-09T14:33:06.323834Z",
     "shell.execute_reply": "2023-02-09T14:33:06.322440Z"
    },
    "id": "5319ae2e",
    "outputId": "5edc6b6b-4892-404b-edd6-f67ec5221235",
    "papermill": {
     "duration": 0.268244,
     "end_time": "2023-02-09T14:33:06.325874",
     "exception": false,
     "start_time": "2023-02-09T14:33:06.057630",
     "status": "completed"
    },
    "tags": []
   },
   "outputs": [
    {
     "name": "stdout",
     "output_type": "stream",
     "text": [
      "Number of up-sampling layers: 0\n"
     ]
    }
   ],
   "source": [
    "uplay=upsamling(model)"
   ]
  },
  {
   "cell_type": "code",
   "execution_count": null,
   "id": "f158c330",
   "metadata": {
    "id": "063b00ee",
    "papermill": {
     "duration": 0.291913,
     "end_time": "2023-02-09T14:33:06.869167",
     "exception": false,
     "start_time": "2023-02-09T14:33:06.577254",
     "status": "completed"
    },
    "tags": []
   },
   "outputs": [],
   "source": []
  },
  {
   "cell_type": "code",
   "execution_count": 42,
   "id": "c016a355",
   "metadata": {
    "execution": {
     "iopub.execute_input": "2023-02-09T14:33:07.365360Z",
     "iopub.status.busy": "2023-02-09T14:33:07.364989Z",
     "iopub.status.idle": "2023-02-09T14:33:07.370339Z",
     "shell.execute_reply": "2023-02-09T14:33:07.369418Z"
    },
    "id": "1abff652",
    "papermill": {
     "duration": 0.25573,
     "end_time": "2023-02-09T14:33:07.372333",
     "exception": false,
     "start_time": "2023-02-09T14:33:07.116603",
     "status": "completed"
    },
    "tags": []
   },
   "outputs": [],
   "source": [
    "def maxpooling(model):\n",
    "# Get the number of up-sampling layers\n",
    " MaxPooling2D_layers = [layer for layer in model.layers if isinstance(layer, keras.layers.MaxPooling2D)]\n",
    " num_MaxPooling2D_layers = len(MaxPooling2D_layers)\n",
    " print(\"Number of MaxPooling2D layers:\", num_MaxPooling2D_layers)\n",
    " return num_MaxPooling2D_layers"
   ]
  },
  {
   "cell_type": "code",
   "execution_count": 43,
   "id": "10fed570",
   "metadata": {
    "execution": {
     "iopub.execute_input": "2023-02-09T14:33:07.870060Z",
     "iopub.status.busy": "2023-02-09T14:33:07.869700Z",
     "iopub.status.idle": "2023-02-09T14:33:07.874575Z",
     "shell.execute_reply": "2023-02-09T14:33:07.873652Z"
    },
    "id": "b2b7b681",
    "outputId": "e28dc75e-c270-42de-f65f-c9d503f714f2",
    "papermill": {
     "duration": 0.256545,
     "end_time": "2023-02-09T14:33:07.877234",
     "exception": false,
     "start_time": "2023-02-09T14:33:07.620689",
     "status": "completed"
    },
    "tags": []
   },
   "outputs": [
    {
     "name": "stdout",
     "output_type": "stream",
     "text": [
      "Number of MaxPooling2D layers: 2\n"
     ]
    }
   ],
   "source": [
    "maxlay=maxpooling(model)"
   ]
  },
  {
   "cell_type": "code",
   "execution_count": 44,
   "id": "7f6ea474",
   "metadata": {
    "execution": {
     "iopub.execute_input": "2023-02-09T14:33:08.376047Z",
     "iopub.status.busy": "2023-02-09T14:33:08.375690Z",
     "iopub.status.idle": "2023-02-09T14:33:08.381124Z",
     "shell.execute_reply": "2023-02-09T14:33:08.380099Z"
    },
    "id": "971c930e",
    "papermill": {
     "duration": 0.259127,
     "end_time": "2023-02-09T14:33:08.383229",
     "exception": false,
     "start_time": "2023-02-09T14:33:08.124102",
     "status": "completed"
    },
    "tags": []
   },
   "outputs": [],
   "source": [
    "def patch(model):\n",
    "\n",
    "# Get the patch size\n",
    " patch_size = 0\n",
    " for layer in model.layers:\n",
    "    if isinstance(layer, keras.layers.Conv2D):\n",
    "        patch_size = layer.kernel_size[0]\n",
    "        break\n",
    "\n",
    " print(\"Patch size:\", patch_size)\n",
    " return patch_size"
   ]
  },
  {
   "cell_type": "code",
   "execution_count": 45,
   "id": "43496b0f",
   "metadata": {
    "execution": {
     "iopub.execute_input": "2023-02-09T14:33:08.926457Z",
     "iopub.status.busy": "2023-02-09T14:33:08.926063Z",
     "iopub.status.idle": "2023-02-09T14:33:08.931061Z",
     "shell.execute_reply": "2023-02-09T14:33:08.930124Z"
    },
    "id": "e15d1c1c",
    "outputId": "69f2a733-343f-42da-8ec1-0b711800d3ac",
    "papermill": {
     "duration": 0.258734,
     "end_time": "2023-02-09T14:33:08.934126",
     "exception": false,
     "start_time": "2023-02-09T14:33:08.675392",
     "status": "completed"
    },
    "tags": []
   },
   "outputs": [
    {
     "name": "stdout",
     "output_type": "stream",
     "text": [
      "Patch size: 3\n"
     ]
    }
   ],
   "source": [
    "p=patch(model)"
   ]
  },
  {
   "cell_type": "code",
   "execution_count": 46,
   "id": "cf98a1c3",
   "metadata": {
    "execution": {
     "iopub.execute_input": "2023-02-09T14:33:09.435753Z",
     "iopub.status.busy": "2023-02-09T14:33:09.435068Z",
     "iopub.status.idle": "2023-02-09T14:33:09.440397Z",
     "shell.execute_reply": "2023-02-09T14:33:09.439424Z"
    },
    "id": "633efaab",
    "outputId": "d832f51e-58fa-4849-f360-78cc070f19d2",
    "papermill": {
     "duration": 0.256452,
     "end_time": "2023-02-09T14:33:09.443175",
     "exception": false,
     "start_time": "2023-02-09T14:33:09.186723",
     "status": "completed"
    },
    "tags": []
   },
   "outputs": [
    {
     "name": "stdout",
     "output_type": "stream",
     "text": [
      "Optimizer used: <keras.optimizer_v2.adam.Adam object at 0x7fade6fe41d0>\n"
     ]
    }
   ],
   "source": [
    "\n",
    "# Retrieve the optimizer\n",
    "optimizer = model.optimizer\n",
    "print(\"Optimizer used:\", optimizer)\n"
   ]
  },
  {
   "cell_type": "code",
   "execution_count": null,
   "id": "21078cee",
   "metadata": {
    "id": "b330c7b3",
    "papermill": {
     "duration": 0.289782,
     "end_time": "2023-02-09T14:33:09.981943",
     "exception": false,
     "start_time": "2023-02-09T14:33:09.692161",
     "status": "completed"
    },
    "tags": []
   },
   "outputs": [],
   "source": []
  },
  {
   "cell_type": "code",
   "execution_count": 47,
   "id": "605543ef",
   "metadata": {
    "execution": {
     "iopub.execute_input": "2023-02-09T14:33:10.480597Z",
     "iopub.status.busy": "2023-02-09T14:33:10.480244Z",
     "iopub.status.idle": "2023-02-09T14:33:12.103629Z",
     "shell.execute_reply": "2023-02-09T14:33:12.101519Z"
    },
    "id": "8_FfuJQZUdrG",
    "outputId": "b86461c4-ee49-45a8-f3a4-3e67b33f379c",
    "papermill": {
     "duration": 1.87801,
     "end_time": "2023-02-09T14:33:12.106594",
     "exception": false,
     "start_time": "2023-02-09T14:33:10.228584",
     "status": "completed"
    },
    "tags": []
   },
   "outputs": [
    {
     "name": "stderr",
     "output_type": "stream",
     "text": [
      "2023-02-09 14:33:10.484667: W tensorflow/core/framework/cpu_allocator_impl.cc:80] Allocation of 594540000 exceeds 10% of free system memory.\n"
     ]
    },
    {
     "name": "stdout",
     "output_type": "stream",
     "text": [
      "[[1.000000e+00]\n",
      " [1.000000e+00]\n",
      " [9.546732e-15]\n",
      " ...\n",
      " [1.000000e+00]\n",
      " [1.563442e-19]\n",
      " [8.082100e-14]]\n"
     ]
    }
   ],
   "source": [
    "y_pred=model.predict(test_data)\n",
    "print(y_pred)\n",
    "for i in range(len(y_pred)):\n",
    "    if y_pred[i] >= .5:\n",
    "        y_pred[i] = 1\n",
    "    else:\n",
    "        y_pred[i] = 0\n",
    "\n",
    "        "
   ]
  },
  {
   "cell_type": "code",
   "execution_count": 48,
   "id": "c9a12b06",
   "metadata": {
    "execution": {
     "iopub.execute_input": "2023-02-09T14:33:12.615807Z",
     "iopub.status.busy": "2023-02-09T14:33:12.615097Z",
     "iopub.status.idle": "2023-02-09T14:33:12.621261Z",
     "shell.execute_reply": "2023-02-09T14:33:12.620317Z"
    },
    "papermill": {
     "duration": 0.261555,
     "end_time": "2023-02-09T14:33:12.623860",
     "exception": false,
     "start_time": "2023-02-09T14:33:12.362305",
     "status": "completed"
    },
    "tags": []
   },
   "outputs": [
    {
     "name": "stdout",
     "output_type": "stream",
     "text": [
      "[1 1 0 ... 1 0 0]\n"
     ]
    }
   ],
   "source": [
    "\n",
    "y_pred=np.array(y_pred).flatten().astype(int)\n",
    "print(y_pred)"
   ]
  },
  {
   "cell_type": "code",
   "execution_count": null,
   "id": "89de897e",
   "metadata": {
    "id": "a846be81",
    "papermill": {
     "duration": 0.290133,
     "end_time": "2023-02-09T14:33:13.161807",
     "exception": false,
     "start_time": "2023-02-09T14:33:12.871674",
     "status": "completed"
    },
    "tags": []
   },
   "outputs": [],
   "source": []
  },
  {
   "cell_type": "code",
   "execution_count": 49,
   "id": "479dbf24",
   "metadata": {
    "execution": {
     "iopub.execute_input": "2023-02-09T14:33:13.660591Z",
     "iopub.status.busy": "2023-02-09T14:33:13.660232Z",
     "iopub.status.idle": "2023-02-09T14:33:13.666198Z",
     "shell.execute_reply": "2023-02-09T14:33:13.665199Z"
    },
    "papermill": {
     "duration": 0.260521,
     "end_time": "2023-02-09T14:33:13.669773",
     "exception": false,
     "start_time": "2023-02-09T14:33:13.409252",
     "status": "completed"
    },
    "tags": []
   },
   "outputs": [
    {
     "name": "stdout",
     "output_type": "stream",
     "text": [
      "[1 1 0 ... 1 0 0]\n",
      "[1 1 0 ... 1 0 0]\n"
     ]
    }
   ],
   "source": [
    "print(y_pred)\n",
    "print(test_labels)"
   ]
  },
  {
   "cell_type": "code",
   "execution_count": 50,
   "id": "54489f22",
   "metadata": {
    "execution": {
     "iopub.execute_input": "2023-02-09T14:33:14.168702Z",
     "iopub.status.busy": "2023-02-09T14:33:14.168347Z",
     "iopub.status.idle": "2023-02-09T14:33:14.176820Z",
     "shell.execute_reply": "2023-02-09T14:33:14.175947Z"
    },
    "id": "D49wZOmWUg-S",
    "papermill": {
     "duration": 0.258417,
     "end_time": "2023-02-09T14:33:14.178730",
     "exception": false,
     "start_time": "2023-02-09T14:33:13.920313",
     "status": "completed"
    },
    "tags": []
   },
   "outputs": [],
   "source": [
    "# Print the confusion matrix using Matplotlib\n",
    "def cm(y_test, y_pred,name):\n",
    " title=\"confusion matrix of \"+ name\n",
    " conf_matrix = confusion_matrix(y_test, y_pred)\n",
    " fig, ax = plt.subplots(figsize=(5, 5))\n",
    " ax.matshow(conf_matrix, cmap=plt.cm.Oranges, alpha=0.3)\n",
    " for i in range(conf_matrix.shape[0]):\n",
    "    for j in range(conf_matrix.shape[1]):\n",
    "        ax.text(x=j, y=i,s=conf_matrix[i, j], va='center', ha='center', size='xx-large')\n",
    " plt.xlabel('Predictions', fontsize=18)\n",
    " plt.ylabel('Actuals', fontsize=18)\n",
    " plt.title(title, fontsize=18)\n",
    " plt.show()"
   ]
  },
  {
   "cell_type": "code",
   "execution_count": 51,
   "id": "3fbd248f",
   "metadata": {
    "execution": {
     "iopub.execute_input": "2023-02-09T14:33:14.723181Z",
     "iopub.status.busy": "2023-02-09T14:33:14.722796Z",
     "iopub.status.idle": "2023-02-09T14:33:14.729183Z",
     "shell.execute_reply": "2023-02-09T14:33:14.727651Z"
    },
    "id": "ASiQNxijUism",
    "outputId": "6145ad71-f9d0-4e05-b02e-f9b0fd0abcb5",
    "papermill": {
     "duration": 0.303771,
     "end_time": "2023-02-09T14:33:14.731768",
     "exception": false,
     "start_time": "2023-02-09T14:33:14.427997",
     "status": "completed"
    },
    "tags": []
   },
   "outputs": [
    {
     "name": "stdout",
     "output_type": "stream",
     "text": [
      "[1 1 0 ... 1 0 0]\n",
      "[1 1 0 ... 1 0 0]\n"
     ]
    }
   ],
   "source": [
    "print(test_labels)\n",
    "print(y_pred)"
   ]
  },
  {
   "cell_type": "code",
   "execution_count": 52,
   "id": "0e5c09f1",
   "metadata": {
    "execution": {
     "iopub.execute_input": "2023-02-09T14:33:15.233597Z",
     "iopub.status.busy": "2023-02-09T14:33:15.233244Z",
     "iopub.status.idle": "2023-02-09T14:33:15.536719Z",
     "shell.execute_reply": "2023-02-09T14:33:15.535719Z"
    },
    "id": "7fmMslj8UkwA",
    "outputId": "cd2f4fad-fee3-486f-91f7-7343d9f75d04",
    "papermill": {
     "duration": 0.557275,
     "end_time": "2023-02-09T14:33:15.539663",
     "exception": false,
     "start_time": "2023-02-09T14:33:14.982388",
     "status": "completed"
    },
    "tags": []
   },
   "outputs": [
    {
     "data": {
      "image/png": "[encoded data removed]",
      "text/plain": [
       "<Figure size 360x360 with 1 Axes>"
      ]
     },
     "metadata": {
      "needs_background": "light"
     },
     "output_type": "display_data"
    }
   ],
   "source": [
    "import numpy as np\n",
    "from sklearn.metrics import confusion_matrix\n",
    "# Calculate the confusion matrix\n",
    "x=cm(test_labels, y_pred,\"confusion matrix of binary classiier \")"
   ]
  },
  {
   "cell_type": "code",
   "execution_count": 53,
   "id": "1ab4076f",
   "metadata": {
    "execution": {
     "iopub.execute_input": "2023-02-09T14:33:16.121053Z",
     "iopub.status.busy": "2023-02-09T14:33:16.120608Z",
     "iopub.status.idle": "2023-02-09T14:33:16.271557Z",
     "shell.execute_reply": "2023-02-09T14:33:16.270622Z"
    },
    "id": "iz2rwyphUl0n",
    "outputId": "371de885-fad4-4dac-836c-2116817b55d2",
    "papermill": {
     "duration": 0.452826,
     "end_time": "2023-02-09T14:33:16.274998",
     "exception": false,
     "start_time": "2023-02-09T14:33:15.822172",
     "status": "completed"
    },
    "tags": []
   },
   "outputs": [
    {
     "data": {
      "image/png": "[encoded data removed]",
      "text/plain": [
       "<Figure size 432x288 with 1 Axes>"
      ]
     },
     "metadata": {
      "needs_background": "light"
     },
     "output_type": "display_data"
    }
   ],
   "source": [
    "\n",
    "# Compute the confusion matrix\n",
    "cm = confusion_matrix(test_labels, y_pred)\n",
    "\n",
    "# Plot the confusion matrix\n",
    "plt.imshow(cm, cmap=plt.cm.Blues)\n",
    "plt.title(\"Confusion Matrix\")\n",
    "plt.xlabel(\"Predicted Labels\")\n",
    "plt.ylabel(\"True Labels\")\n",
    "plt.xticks([0, 1], [\"Class 0\", \"Class 1\"])\n",
    "plt.yticks([0, 1], [\"Class 0\", \"Class 1\"])\n",
    "for i in range(2):\n",
    "    for j in range(2):\n",
    "        plt.text(j, i, cm[i, j], ha=\"center\", va=\"center\", color=\"red\")\n",
    "plt.show()"
   ]
  },
  {
   "cell_type": "code",
   "execution_count": 54,
   "id": "23eee201",
   "metadata": {
    "execution": {
     "iopub.execute_input": "2023-02-09T14:33:16.965512Z",
     "iopub.status.busy": "2023-02-09T14:33:16.965155Z",
     "iopub.status.idle": "2023-02-09T14:33:17.169737Z",
     "shell.execute_reply": "2023-02-09T14:33:17.168866Z"
    },
    "id": "GvH7f81AWXB-",
    "papermill": {
     "duration": 0.4578,
     "end_time": "2023-02-09T14:33:17.171880",
     "exception": false,
     "start_time": "2023-02-09T14:33:16.714080",
     "status": "completed"
    },
    "tags": []
   },
   "outputs": [
    {
     "data": {
      "image/png": "[encoded data removed]",
      "text/plain": [
       "<Figure size 432x288 with 2 Axes>"
      ]
     },
     "metadata": {
      "needs_background": "light"
     },
     "output_type": "display_data"
    }
   ],
   "source": [
    "from sklearn.metrics import confusion_matrix\n",
    "import matplotlib.pyplot as plt\n",
    "import numpy as np\n",
    "\n",
    "cm = confusion_matrix(test_labels, y_pred)\n",
    "\n",
    "# Plot the confusion matrix\n",
    "fig, ax = plt.subplots()\n",
    "im = ax.imshow(cm, cmap='Oranges')\n",
    "\n",
    "# Add labels to the plot\n",
    "ax.set_xticks([0, 1])\n",
    "ax.set_yticks([0, 1])\n",
    "ax.set_xticklabels(['Class 0', 'Class 1'])\n",
    "ax.set_yticklabels(['Class 0', 'Class 1'])\n",
    "\n",
    "# Rotate the x-axis labels\n",
    "plt.setp(ax.get_xticklabels(), rotation=45, ha=\"right\", rotation_mode=\"anchor\")\n",
    "\n",
    "# Add a colorbar to the plot\n",
    "cbar = ax.figure.colorbar(im, ax=ax)\n",
    "cbar.ax.set_ylabel(\"Counts\", rotation=-90, va=\"bottom\")\n",
    "\n",
    "# Loop over data dimensions and create text annotations\n",
    "for i in range(2):\n",
    "    for j in range(2):\n",
    "        text = ax.text(j, i, cm[i, j], ha=\"center\", va=\"center\", color=\"black\")\n",
    "\n",
    "# Set the title of the plot\n",
    "ax.set_title(\"Confusion Matrix\")\n",
    "\n",
    "# Show the plot\n",
    "plt.show()\n"
   ]
  },
  {
   "cell_type": "code",
   "execution_count": 55,
   "id": "cbc14d9a",
   "metadata": {
    "execution": {
     "iopub.execute_input": "2023-02-09T14:33:17.680681Z",
     "iopub.status.busy": "2023-02-09T14:33:17.680319Z",
     "iopub.status.idle": "2023-02-09T14:33:17.694975Z",
     "shell.execute_reply": "2023-02-09T14:33:17.693869Z"
    },
    "papermill": {
     "duration": 0.274483,
     "end_time": "2023-02-09T14:33:17.697326",
     "exception": false,
     "start_time": "2023-02-09T14:33:17.422843",
     "status": "completed"
    },
    "tags": []
   },
   "outputs": [
    {
     "name": "stdout",
     "output_type": "stream",
     "text": [
      "Accuracy : \n",
      "98.63760217983652\n",
      "Confusion matrix of testing: \n",
      "[[1110    7]\n",
      " [  23 1062]]\n",
      "              precision    recall  f1-score   support\n",
      "\n",
      "           0       0.98      0.99      0.99      1117\n",
      "           1       0.99      0.98      0.99      1085\n",
      "\n",
      "    accuracy                           0.99      2202\n",
      "   macro avg       0.99      0.99      0.99      2202\n",
      "weighted avg       0.99      0.99      0.99      2202\n",
      "\n"
     ]
    }
   ],
   "source": [
    "\n",
    "from sklearn.metrics import confusion_matrix,classification_report,accuracy_score\n",
    "score=accuracy_score(test_labels, y_pred)*100\n",
    "print('Accuracy : \\n{0}'.format(score))\n",
    "conf_mx = confusion_matrix(test_labels, y_pred)\n",
    "print('Confusion matrix of testing: \\n{0}'.format(conf_mx))\n",
    "print(classification_report(test_labels, y_pred))\n"
   ]
  },
  {
   "cell_type": "code",
   "execution_count": null,
   "id": "d86c4e7e",
   "metadata": {
    "papermill": {
     "duration": 0.247122,
     "end_time": "2023-02-09T14:33:18.195978",
     "exception": false,
     "start_time": "2023-02-09T14:33:17.948856",
     "status": "completed"
    },
    "tags": []
   },
   "outputs": [],
   "source": []
  }
 ],
 "metadata": {
  "kernelspec": {
   "display_name": "Python 3",
   "language": "python",
   "name": "python3"
  },
  "language_info": {
   "codemirror_mode": {
    "name": "ipython",
    "version": 3
   },
   "file_extension": ".py",
   "mimetype": "text/x-python",
   "name": "python",
   "nbconvert_exporter": "python",
   "pygments_lexer": "ipython3",
   "version": "3.7.12"
  },
  "papermill": {
   "default_parameters": {},
   "duration": 488.901789,
   "end_time": "2023-02-09T14:33:21.419373",
   "environment_variables": {},
   "exception": null,
   "input_path": "__notebook__.ipynb",
   "output_path": "__notebook__.ipynb",
   "parameters": {},
   "start_time": "2023-02-09T14:25:12.517584",
   "version": "2.3.4"
  }
 },
 "nbformat": 4,
 "nbformat_minor": 5
}
